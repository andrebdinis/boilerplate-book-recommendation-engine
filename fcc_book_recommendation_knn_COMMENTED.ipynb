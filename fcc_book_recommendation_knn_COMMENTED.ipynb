{
  "cells": [
    {
      "cell_type": "markdown",
      "metadata": {
        "id": "Hgv90oSlgNYl"
      },
      "source": [
        "# FCC Book Recommendation K-NN (ML with Python Project)"
      ]
    },
    {
      "cell_type": "markdown",
      "metadata": {
        "id": "5dh4CUz5fmEL"
      },
      "source": [
        "## Project Summary"
      ]
    },
    {
      "cell_type": "code",
      "execution_count": 1,
      "metadata": {
        "id": "SiG2ua7lFt47"
      },
      "outputs": [],
      "source": [
        "# In this challenge, you will create a book recommendation algorithm using \n",
        "#K-Nearest Neighbors.\n",
        "\n",
        "# You will use the Book-Crossings dataset. This dataset contains 1.1 million \n",
        "#ratings (scale of 1-10) of 270,000 books by 90,000 users.\n",
        "\n",
        "# The first three cells import libraries you may need and the data to use. The final cell is \n",
        "#for testing. Write all your code in between those cells."
      ]
    },
    {
      "cell_type": "markdown",
      "metadata": {
        "id": "v3DNBSIsblcJ"
      },
      "source": [
        "## 1. Import Libraries"
      ]
    },
    {
      "cell_type": "code",
      "execution_count": 2,
      "metadata": {
        "id": "Y1onB6kUvo4Z"
      },
      "outputs": [],
      "source": [
        "# 1. import libraries (you may add additional imports but you may not have to)\n",
        "import numpy as np\n",
        "import pandas as pd\n",
        "from scipy.sparse import csr_matrix\n",
        "from sklearn.neighbors import NearestNeighbors\n",
        "import matplotlib.pyplot as plt"
      ]
    },
    {
      "cell_type": "markdown",
      "metadata": {
        "id": "sz1vanhIbo6S"
      },
      "source": [
        "## 2. Get Data Files"
      ]
    },
    {
      "cell_type": "code",
      "execution_count": 3,
      "metadata": {
        "colab": {
          "base_uri": "https://localhost:8080/"
        },
        "id": "iAQGqqO_vo4d",
        "outputId": "b57fdf25-3d74-4b4a-ef75-43308a710dc9"
      },
      "outputs": [
        {
          "name": "stdout",
          "output_type": "stream",
          "text": [
            "--2022-12-20 14:54:03--  https://cdn.freecodecamp.org/project-data/books/book-crossings.zip\n",
            "Resolving cdn.freecodecamp.org (cdn.freecodecamp.org)... 104.26.2.33, 172.67.70.149, 104.26.3.33, ...\n",
            "Connecting to cdn.freecodecamp.org (cdn.freecodecamp.org)|104.26.2.33|:443... connected.\n",
            "HTTP request sent, awaiting response... 200 OK\n",
            "Length: 26085508 (25M) [application/zip]\n",
            "Saving to: ‘book-crossings.zip.1’\n",
            "\n",
            "book-crossings.zip. 100%[===================>]  24.88M  32.1MB/s    in 0.8s    \n",
            "\n",
            "2022-12-20 14:54:05 (32.1 MB/s) - ‘book-crossings.zip.1’ saved [26085508/26085508]\n",
            "\n",
            "Archive:  book-crossings.zip\n",
            "replace BX-Book-Ratings.csv? [y]es, [n]o, [A]ll, [N]one, [r]ename: N\n"
          ]
        }
      ],
      "source": [
        "# 2. get data files\n",
        "!wget https://cdn.freecodecamp.org/project-data/books/book-crossings.zip\n",
        "\n",
        "!unzip book-crossings.zip\n",
        "\n",
        "books_filename = 'BX-Books.csv'\n",
        "ratings_filename = 'BX-Book-Ratings.csv'"
      ]
    },
    {
      "cell_type": "markdown",
      "metadata": {
        "id": "9-wb-eyBbsmi"
      },
      "source": [
        "## 3. Import CSV Data Into Dataframes"
      ]
    },
    {
      "cell_type": "code",
      "execution_count": 4,
      "metadata": {
        "id": "NClILWOiEd6Q"
      },
      "outputs": [],
      "source": [
        "# 3. import csv data into dataframes\n",
        "df_books = pd.read_csv(\n",
        "    books_filename,\n",
        "    encoding = \"ISO-8859-1\",\n",
        "    sep=\";\",\n",
        "    header=0,\n",
        "    names=['isbn', 'title', 'author'],\n",
        "    usecols=['isbn', 'title', 'author'],\n",
        "    dtype={'isbn': 'str', 'title': 'str', 'author': 'str'})\n",
        "\n",
        "df_ratings = pd.read_csv(\n",
        "    ratings_filename,\n",
        "    encoding = \"ISO-8859-1\",\n",
        "    sep=\";\",\n",
        "    header=0,\n",
        "    names=['user', 'isbn', 'rating'],\n",
        "    usecols=['user', 'isbn', 'rating'],\n",
        "    dtype={'user': 'int32', 'isbn': 'str', 'rating': 'float32'})"
      ]
    },
    {
      "cell_type": "code",
      "execution_count": 5,
      "metadata": {
        "id": "xAcXjkCFCh0A"
      },
      "outputs": [],
      "source": [
        "# ... INSERT YOUR CODE BELOW ..."
      ]
    },
    {
      "cell_type": "markdown",
      "metadata": {
        "id": "86tZaEQtauxp"
      },
      "source": [
        "## Get To Know Your Dataset"
      ]
    },
    {
      "cell_type": "markdown",
      "metadata": {
        "id": "aKVeU6CyaqZa"
      },
      "source": [
        "### Basic Info: ```df_books```"
      ]
    },
    {
      "cell_type": "markdown",
      "metadata": {
        "id": "YcgJydzIfimB"
      },
      "source": [
        "#### Information"
      ]
    },
    {
      "cell_type": "code",
      "execution_count": 6,
      "metadata": {
        "colab": {
          "base_uri": "https://localhost:8080/"
        },
        "id": "GeinsUDqXZoP",
        "outputId": "173d30bc-de02-4bc6-874e-a858f1091bc9"
      },
      "outputs": [
        {
          "name": "stdout",
          "output_type": "stream",
          "text": [
            "<class 'pandas.core.frame.DataFrame'>\n",
            "RangeIndex: 271379 entries, 0 to 271378\n",
            "Data columns (total 3 columns):\n",
            " #   Column  Non-Null Count   Dtype \n",
            "---  ------  --------------   ----- \n",
            " 0   isbn    271379 non-null  object\n",
            " 1   title   271379 non-null  object\n",
            " 2   author  271378 non-null  object\n",
            "dtypes: object(3)\n",
            "memory usage: 6.2+ MB\n"
          ]
        }
      ],
      "source": [
        "df_books.info()"
      ]
    },
    {
      "cell_type": "code",
      "execution_count": 7,
      "metadata": {
        "colab": {
          "base_uri": "https://localhost:8080/",
          "height": 0
        },
        "id": "QtIJLXv-c869",
        "outputId": "173cfef6-4eb9-4fb6-b109-7e95480e466f"
      },
      "outputs": [
        {
          "data": {
            "text/html": [
              "\n",
              "  <div id=\"df-c1d888e7-b34c-48ac-9d9e-a90186a5a5d4\">\n",
              "    <div class=\"colab-df-container\">\n",
              "      <div>\n",
              "<style scoped>\n",
              "    .dataframe tbody tr th:only-of-type {\n",
              "        vertical-align: middle;\n",
              "    }\n",
              "\n",
              "    .dataframe tbody tr th {\n",
              "        vertical-align: top;\n",
              "    }\n",
              "\n",
              "    .dataframe thead th {\n",
              "        text-align: right;\n",
              "    }\n",
              "</style>\n",
              "<table border=\"1\" class=\"dataframe\">\n",
              "  <thead>\n",
              "    <tr style=\"text-align: right;\">\n",
              "      <th></th>\n",
              "      <th>isbn</th>\n",
              "      <th>title</th>\n",
              "      <th>author</th>\n",
              "    </tr>\n",
              "  </thead>\n",
              "  <tbody>\n",
              "    <tr>\n",
              "      <th>count</th>\n",
              "      <td>271379</td>\n",
              "      <td>271379</td>\n",
              "      <td>271378</td>\n",
              "    </tr>\n",
              "    <tr>\n",
              "      <th>unique</th>\n",
              "      <td>271379</td>\n",
              "      <td>242154</td>\n",
              "      <td>102042</td>\n",
              "    </tr>\n",
              "    <tr>\n",
              "      <th>top</th>\n",
              "      <td>0195153448</td>\n",
              "      <td>Selected Poems</td>\n",
              "      <td>Agatha Christie</td>\n",
              "    </tr>\n",
              "    <tr>\n",
              "      <th>freq</th>\n",
              "      <td>1</td>\n",
              "      <td>27</td>\n",
              "      <td>632</td>\n",
              "    </tr>\n",
              "  </tbody>\n",
              "</table>\n",
              "</div>\n",
              "      <button class=\"colab-df-convert\" onclick=\"convertToInteractive('df-c1d888e7-b34c-48ac-9d9e-a90186a5a5d4')\"\n",
              "              title=\"Convert this dataframe to an interactive table.\"\n",
              "              style=\"display:none;\">\n",
              "        \n",
              "  <svg xmlns=\"http://www.w3.org/2000/svg\" height=\"24px\"viewBox=\"0 0 24 24\"\n",
              "       width=\"24px\">\n",
              "    <path d=\"M0 0h24v24H0V0z\" fill=\"none\"/>\n",
              "    <path d=\"M18.56 5.44l.94 2.06.94-2.06 2.06-.94-2.06-.94-.94-2.06-.94 2.06-2.06.94zm-11 1L8.5 8.5l.94-2.06 2.06-.94-2.06-.94L8.5 2.5l-.94 2.06-2.06.94zm10 10l.94 2.06.94-2.06 2.06-.94-2.06-.94-.94-2.06-.94 2.06-2.06.94z\"/><path d=\"M17.41 7.96l-1.37-1.37c-.4-.4-.92-.59-1.43-.59-.52 0-1.04.2-1.43.59L10.3 9.45l-7.72 7.72c-.78.78-.78 2.05 0 2.83L4 21.41c.39.39.9.59 1.41.59.51 0 1.02-.2 1.41-.59l7.78-7.78 2.81-2.81c.8-.78.8-2.07 0-2.86zM5.41 20L4 18.59l7.72-7.72 1.47 1.35L5.41 20z\"/>\n",
              "  </svg>\n",
              "      </button>\n",
              "      \n",
              "  <style>\n",
              "    .colab-df-container {\n",
              "      display:flex;\n",
              "      flex-wrap:wrap;\n",
              "      gap: 12px;\n",
              "    }\n",
              "\n",
              "    .colab-df-convert {\n",
              "      background-color: #E8F0FE;\n",
              "      border: none;\n",
              "      border-radius: 50%;\n",
              "      cursor: pointer;\n",
              "      display: none;\n",
              "      fill: #1967D2;\n",
              "      height: 32px;\n",
              "      padding: 0 0 0 0;\n",
              "      width: 32px;\n",
              "    }\n",
              "\n",
              "    .colab-df-convert:hover {\n",
              "      background-color: #E2EBFA;\n",
              "      box-shadow: 0px 1px 2px rgba(60, 64, 67, 0.3), 0px 1px 3px 1px rgba(60, 64, 67, 0.15);\n",
              "      fill: #174EA6;\n",
              "    }\n",
              "\n",
              "    [theme=dark] .colab-df-convert {\n",
              "      background-color: #3B4455;\n",
              "      fill: #D2E3FC;\n",
              "    }\n",
              "\n",
              "    [theme=dark] .colab-df-convert:hover {\n",
              "      background-color: #434B5C;\n",
              "      box-shadow: 0px 1px 3px 1px rgba(0, 0, 0, 0.15);\n",
              "      filter: drop-shadow(0px 1px 2px rgba(0, 0, 0, 0.3));\n",
              "      fill: #FFFFFF;\n",
              "    }\n",
              "  </style>\n",
              "\n",
              "      <script>\n",
              "        const buttonEl =\n",
              "          document.querySelector('#df-c1d888e7-b34c-48ac-9d9e-a90186a5a5d4 button.colab-df-convert');\n",
              "        buttonEl.style.display =\n",
              "          google.colab.kernel.accessAllowed ? 'block' : 'none';\n",
              "\n",
              "        async function convertToInteractive(key) {\n",
              "          const element = document.querySelector('#df-c1d888e7-b34c-48ac-9d9e-a90186a5a5d4');\n",
              "          const dataTable =\n",
              "            await google.colab.kernel.invokeFunction('convertToInteractive',\n",
              "                                                     [key], {});\n",
              "          if (!dataTable) return;\n",
              "\n",
              "          const docLinkHtml = 'Like what you see? Visit the ' +\n",
              "            '<a target=\"_blank\" href=https://colab.research.google.com/notebooks/data_table.ipynb>data table notebook</a>'\n",
              "            + ' to learn more about interactive tables.';\n",
              "          element.innerHTML = '';\n",
              "          dataTable['output_type'] = 'display_data';\n",
              "          await google.colab.output.renderOutput(dataTable, element);\n",
              "          const docLink = document.createElement('div');\n",
              "          docLink.innerHTML = docLinkHtml;\n",
              "          element.appendChild(docLink);\n",
              "        }\n",
              "      </script>\n",
              "    </div>\n",
              "  </div>\n",
              "  "
            ],
            "text/plain": [
              "              isbn           title           author\n",
              "count       271379          271379           271378\n",
              "unique      271379          242154           102042\n",
              "top     0195153448  Selected Poems  Agatha Christie\n",
              "freq             1              27              632"
            ]
          },
          "execution_count": 7,
          "metadata": {},
          "output_type": "execute_result"
        }
      ],
      "source": [
        "df_books.describe()"
      ]
    },
    {
      "cell_type": "code",
      "execution_count": 8,
      "metadata": {
        "colab": {
          "base_uri": "https://localhost:8080/",
          "height": 0
        },
        "id": "TAEUAAK7c_es",
        "outputId": "954983bd-2504-4a75-97fd-84f363ff7ecb"
      },
      "outputs": [
        {
          "data": {
            "text/html": [
              "\n",
              "  <div id=\"df-d3adbcd0-cdc3-4f49-950e-9c55d4f7fb5c\">\n",
              "    <div class=\"colab-df-container\">\n",
              "      <div>\n",
              "<style scoped>\n",
              "    .dataframe tbody tr th:only-of-type {\n",
              "        vertical-align: middle;\n",
              "    }\n",
              "\n",
              "    .dataframe tbody tr th {\n",
              "        vertical-align: top;\n",
              "    }\n",
              "\n",
              "    .dataframe thead th {\n",
              "        text-align: right;\n",
              "    }\n",
              "</style>\n",
              "<table border=\"1\" class=\"dataframe\">\n",
              "  <thead>\n",
              "    <tr style=\"text-align: right;\">\n",
              "      <th></th>\n",
              "      <th>isbn</th>\n",
              "      <th>title</th>\n",
              "      <th>author</th>\n",
              "    </tr>\n",
              "  </thead>\n",
              "  <tbody>\n",
              "    <tr>\n",
              "      <th>0</th>\n",
              "      <td>0195153448</td>\n",
              "      <td>Classical Mythology</td>\n",
              "      <td>Mark P. O. Morford</td>\n",
              "    </tr>\n",
              "    <tr>\n",
              "      <th>1</th>\n",
              "      <td>0002005018</td>\n",
              "      <td>Clara Callan</td>\n",
              "      <td>Richard Bruce Wright</td>\n",
              "    </tr>\n",
              "    <tr>\n",
              "      <th>2</th>\n",
              "      <td>0060973129</td>\n",
              "      <td>Decision in Normandy</td>\n",
              "      <td>Carlo D'Este</td>\n",
              "    </tr>\n",
              "  </tbody>\n",
              "</table>\n",
              "</div>\n",
              "      <button class=\"colab-df-convert\" onclick=\"convertToInteractive('df-d3adbcd0-cdc3-4f49-950e-9c55d4f7fb5c')\"\n",
              "              title=\"Convert this dataframe to an interactive table.\"\n",
              "              style=\"display:none;\">\n",
              "        \n",
              "  <svg xmlns=\"http://www.w3.org/2000/svg\" height=\"24px\"viewBox=\"0 0 24 24\"\n",
              "       width=\"24px\">\n",
              "    <path d=\"M0 0h24v24H0V0z\" fill=\"none\"/>\n",
              "    <path d=\"M18.56 5.44l.94 2.06.94-2.06 2.06-.94-2.06-.94-.94-2.06-.94 2.06-2.06.94zm-11 1L8.5 8.5l.94-2.06 2.06-.94-2.06-.94L8.5 2.5l-.94 2.06-2.06.94zm10 10l.94 2.06.94-2.06 2.06-.94-2.06-.94-.94-2.06-.94 2.06-2.06.94z\"/><path d=\"M17.41 7.96l-1.37-1.37c-.4-.4-.92-.59-1.43-.59-.52 0-1.04.2-1.43.59L10.3 9.45l-7.72 7.72c-.78.78-.78 2.05 0 2.83L4 21.41c.39.39.9.59 1.41.59.51 0 1.02-.2 1.41-.59l7.78-7.78 2.81-2.81c.8-.78.8-2.07 0-2.86zM5.41 20L4 18.59l7.72-7.72 1.47 1.35L5.41 20z\"/>\n",
              "  </svg>\n",
              "      </button>\n",
              "      \n",
              "  <style>\n",
              "    .colab-df-container {\n",
              "      display:flex;\n",
              "      flex-wrap:wrap;\n",
              "      gap: 12px;\n",
              "    }\n",
              "\n",
              "    .colab-df-convert {\n",
              "      background-color: #E8F0FE;\n",
              "      border: none;\n",
              "      border-radius: 50%;\n",
              "      cursor: pointer;\n",
              "      display: none;\n",
              "      fill: #1967D2;\n",
              "      height: 32px;\n",
              "      padding: 0 0 0 0;\n",
              "      width: 32px;\n",
              "    }\n",
              "\n",
              "    .colab-df-convert:hover {\n",
              "      background-color: #E2EBFA;\n",
              "      box-shadow: 0px 1px 2px rgba(60, 64, 67, 0.3), 0px 1px 3px 1px rgba(60, 64, 67, 0.15);\n",
              "      fill: #174EA6;\n",
              "    }\n",
              "\n",
              "    [theme=dark] .colab-df-convert {\n",
              "      background-color: #3B4455;\n",
              "      fill: #D2E3FC;\n",
              "    }\n",
              "\n",
              "    [theme=dark] .colab-df-convert:hover {\n",
              "      background-color: #434B5C;\n",
              "      box-shadow: 0px 1px 3px 1px rgba(0, 0, 0, 0.15);\n",
              "      filter: drop-shadow(0px 1px 2px rgba(0, 0, 0, 0.3));\n",
              "      fill: #FFFFFF;\n",
              "    }\n",
              "  </style>\n",
              "\n",
              "      <script>\n",
              "        const buttonEl =\n",
              "          document.querySelector('#df-d3adbcd0-cdc3-4f49-950e-9c55d4f7fb5c button.colab-df-convert');\n",
              "        buttonEl.style.display =\n",
              "          google.colab.kernel.accessAllowed ? 'block' : 'none';\n",
              "\n",
              "        async function convertToInteractive(key) {\n",
              "          const element = document.querySelector('#df-d3adbcd0-cdc3-4f49-950e-9c55d4f7fb5c');\n",
              "          const dataTable =\n",
              "            await google.colab.kernel.invokeFunction('convertToInteractive',\n",
              "                                                     [key], {});\n",
              "          if (!dataTable) return;\n",
              "\n",
              "          const docLinkHtml = 'Like what you see? Visit the ' +\n",
              "            '<a target=\"_blank\" href=https://colab.research.google.com/notebooks/data_table.ipynb>data table notebook</a>'\n",
              "            + ' to learn more about interactive tables.';\n",
              "          element.innerHTML = '';\n",
              "          dataTable['output_type'] = 'display_data';\n",
              "          await google.colab.output.renderOutput(dataTable, element);\n",
              "          const docLink = document.createElement('div');\n",
              "          docLink.innerHTML = docLinkHtml;\n",
              "          element.appendChild(docLink);\n",
              "        }\n",
              "      </script>\n",
              "    </div>\n",
              "  </div>\n",
              "  "
            ],
            "text/plain": [
              "         isbn                 title                author\n",
              "0  0195153448   Classical Mythology    Mark P. O. Morford\n",
              "1  0002005018          Clara Callan  Richard Bruce Wright\n",
              "2  0060973129  Decision in Normandy          Carlo D'Este"
            ]
          },
          "execution_count": 8,
          "metadata": {},
          "output_type": "execute_result"
        }
      ],
      "source": [
        "df_books.head(3)"
      ]
    },
    {
      "cell_type": "code",
      "execution_count": 9,
      "metadata": {
        "colab": {
          "base_uri": "https://localhost:8080/",
          "height": 0
        },
        "id": "T4gqewYXdBtg",
        "outputId": "d1e6babb-6b24-4898-b298-753cb92fe56b"
      },
      "outputs": [
        {
          "data": {
            "text/html": [
              "\n",
              "  <div id=\"df-6aa1ec65-8b03-4019-9adf-aa97ae25bdd1\">\n",
              "    <div class=\"colab-df-container\">\n",
              "      <div>\n",
              "<style scoped>\n",
              "    .dataframe tbody tr th:only-of-type {\n",
              "        vertical-align: middle;\n",
              "    }\n",
              "\n",
              "    .dataframe tbody tr th {\n",
              "        vertical-align: top;\n",
              "    }\n",
              "\n",
              "    .dataframe thead th {\n",
              "        text-align: right;\n",
              "    }\n",
              "</style>\n",
              "<table border=\"1\" class=\"dataframe\">\n",
              "  <thead>\n",
              "    <tr style=\"text-align: right;\">\n",
              "      <th></th>\n",
              "      <th>isbn</th>\n",
              "      <th>title</th>\n",
              "      <th>author</th>\n",
              "    </tr>\n",
              "  </thead>\n",
              "  <tbody>\n",
              "    <tr>\n",
              "      <th>271376</th>\n",
              "      <td>006008667X</td>\n",
              "      <td>Lily Dale : The True Story of the Town that Ta...</td>\n",
              "      <td>Christine Wicker</td>\n",
              "    </tr>\n",
              "    <tr>\n",
              "      <th>271377</th>\n",
              "      <td>0192126040</td>\n",
              "      <td>Republic (World's Classics)</td>\n",
              "      <td>Plato</td>\n",
              "    </tr>\n",
              "    <tr>\n",
              "      <th>271378</th>\n",
              "      <td>0767409752</td>\n",
              "      <td>A Guided Tour of Rene Descartes' Meditations o...</td>\n",
              "      <td>Christopher  Biffle</td>\n",
              "    </tr>\n",
              "  </tbody>\n",
              "</table>\n",
              "</div>\n",
              "      <button class=\"colab-df-convert\" onclick=\"convertToInteractive('df-6aa1ec65-8b03-4019-9adf-aa97ae25bdd1')\"\n",
              "              title=\"Convert this dataframe to an interactive table.\"\n",
              "              style=\"display:none;\">\n",
              "        \n",
              "  <svg xmlns=\"http://www.w3.org/2000/svg\" height=\"24px\"viewBox=\"0 0 24 24\"\n",
              "       width=\"24px\">\n",
              "    <path d=\"M0 0h24v24H0V0z\" fill=\"none\"/>\n",
              "    <path d=\"M18.56 5.44l.94 2.06.94-2.06 2.06-.94-2.06-.94-.94-2.06-.94 2.06-2.06.94zm-11 1L8.5 8.5l.94-2.06 2.06-.94-2.06-.94L8.5 2.5l-.94 2.06-2.06.94zm10 10l.94 2.06.94-2.06 2.06-.94-2.06-.94-.94-2.06-.94 2.06-2.06.94z\"/><path d=\"M17.41 7.96l-1.37-1.37c-.4-.4-.92-.59-1.43-.59-.52 0-1.04.2-1.43.59L10.3 9.45l-7.72 7.72c-.78.78-.78 2.05 0 2.83L4 21.41c.39.39.9.59 1.41.59.51 0 1.02-.2 1.41-.59l7.78-7.78 2.81-2.81c.8-.78.8-2.07 0-2.86zM5.41 20L4 18.59l7.72-7.72 1.47 1.35L5.41 20z\"/>\n",
              "  </svg>\n",
              "      </button>\n",
              "      \n",
              "  <style>\n",
              "    .colab-df-container {\n",
              "      display:flex;\n",
              "      flex-wrap:wrap;\n",
              "      gap: 12px;\n",
              "    }\n",
              "\n",
              "    .colab-df-convert {\n",
              "      background-color: #E8F0FE;\n",
              "      border: none;\n",
              "      border-radius: 50%;\n",
              "      cursor: pointer;\n",
              "      display: none;\n",
              "      fill: #1967D2;\n",
              "      height: 32px;\n",
              "      padding: 0 0 0 0;\n",
              "      width: 32px;\n",
              "    }\n",
              "\n",
              "    .colab-df-convert:hover {\n",
              "      background-color: #E2EBFA;\n",
              "      box-shadow: 0px 1px 2px rgba(60, 64, 67, 0.3), 0px 1px 3px 1px rgba(60, 64, 67, 0.15);\n",
              "      fill: #174EA6;\n",
              "    }\n",
              "\n",
              "    [theme=dark] .colab-df-convert {\n",
              "      background-color: #3B4455;\n",
              "      fill: #D2E3FC;\n",
              "    }\n",
              "\n",
              "    [theme=dark] .colab-df-convert:hover {\n",
              "      background-color: #434B5C;\n",
              "      box-shadow: 0px 1px 3px 1px rgba(0, 0, 0, 0.15);\n",
              "      filter: drop-shadow(0px 1px 2px rgba(0, 0, 0, 0.3));\n",
              "      fill: #FFFFFF;\n",
              "    }\n",
              "  </style>\n",
              "\n",
              "      <script>\n",
              "        const buttonEl =\n",
              "          document.querySelector('#df-6aa1ec65-8b03-4019-9adf-aa97ae25bdd1 button.colab-df-convert');\n",
              "        buttonEl.style.display =\n",
              "          google.colab.kernel.accessAllowed ? 'block' : 'none';\n",
              "\n",
              "        async function convertToInteractive(key) {\n",
              "          const element = document.querySelector('#df-6aa1ec65-8b03-4019-9adf-aa97ae25bdd1');\n",
              "          const dataTable =\n",
              "            await google.colab.kernel.invokeFunction('convertToInteractive',\n",
              "                                                     [key], {});\n",
              "          if (!dataTable) return;\n",
              "\n",
              "          const docLinkHtml = 'Like what you see? Visit the ' +\n",
              "            '<a target=\"_blank\" href=https://colab.research.google.com/notebooks/data_table.ipynb>data table notebook</a>'\n",
              "            + ' to learn more about interactive tables.';\n",
              "          element.innerHTML = '';\n",
              "          dataTable['output_type'] = 'display_data';\n",
              "          await google.colab.output.renderOutput(dataTable, element);\n",
              "          const docLink = document.createElement('div');\n",
              "          docLink.innerHTML = docLinkHtml;\n",
              "          element.appendChild(docLink);\n",
              "        }\n",
              "      </script>\n",
              "    </div>\n",
              "  </div>\n",
              "  "
            ],
            "text/plain": [
              "              isbn                                              title  \\\n",
              "271376  006008667X  Lily Dale : The True Story of the Town that Ta...   \n",
              "271377  0192126040                        Republic (World's Classics)   \n",
              "271378  0767409752  A Guided Tour of Rene Descartes' Meditations o...   \n",
              "\n",
              "                     author  \n",
              "271376     Christine Wicker  \n",
              "271377                Plato  \n",
              "271378  Christopher  Biffle  "
            ]
          },
          "execution_count": 9,
          "metadata": {},
          "output_type": "execute_result"
        }
      ],
      "source": [
        "df_books.tail(3)"
      ]
    },
    {
      "cell_type": "code",
      "execution_count": 10,
      "metadata": {
        "colab": {
          "base_uri": "https://localhost:8080/"
        },
        "id": "zrPUC2ctdEX4",
        "outputId": "e9acda8a-eaf9-46b6-eec3-10f3a6a169ce"
      },
      "outputs": [
        {
          "data": {
            "text/plain": [
              "(271379, 3)"
            ]
          },
          "execution_count": 10,
          "metadata": {},
          "output_type": "execute_result"
        }
      ],
      "source": [
        "df_books.shape # (271_379, 3)"
      ]
    },
    {
      "cell_type": "code",
      "execution_count": 11,
      "metadata": {
        "colab": {
          "base_uri": "https://localhost:8080/"
        },
        "id": "iBl3xiOKdG1b",
        "outputId": "a4889727-26e3-48b2-bc06-0a12420bd7c0"
      },
      "outputs": [
        {
          "data": {
            "text/plain": [
              "271379"
            ]
          },
          "execution_count": 11,
          "metadata": {},
          "output_type": "execute_result"
        }
      ],
      "source": [
        "df_books.shape[0] # 271_379"
      ]
    },
    {
      "cell_type": "code",
      "execution_count": 12,
      "metadata": {
        "colab": {
          "base_uri": "https://localhost:8080/"
        },
        "id": "qHkPN0J0dJp_",
        "outputId": "9d1e7dc0-aeaa-4880-8034-074a87a571f4"
      },
      "outputs": [
        {
          "data": {
            "text/plain": [
              "2"
            ]
          },
          "execution_count": 12,
          "metadata": {},
          "output_type": "execute_result"
        }
      ],
      "source": [
        "df_books.ndim # 2"
      ]
    },
    {
      "cell_type": "code",
      "execution_count": 13,
      "metadata": {
        "colab": {
          "base_uri": "https://localhost:8080/"
        },
        "id": "brX-_yrydKHy",
        "outputId": "9e9d4f34-e829-4b98-afd6-03ab9f8f648f"
      },
      "outputs": [
        {
          "data": {
            "text/plain": [
              "814137"
            ]
          },
          "execution_count": 13,
          "metadata": {},
          "output_type": "execute_result"
        }
      ],
      "source": [
        "df_books.size # 814_137"
      ]
    },
    {
      "cell_type": "code",
      "execution_count": 14,
      "metadata": {
        "colab": {
          "base_uri": "https://localhost:8080/"
        },
        "id": "m1JBZYmOdKis",
        "outputId": "98a16290-3580-4d93-d342-d18d65384cca"
      },
      "outputs": [
        {
          "data": {
            "text/plain": [
              "RangeIndex(start=0, stop=271379, step=1)"
            ]
          },
          "execution_count": 14,
          "metadata": {},
          "output_type": "execute_result"
        }
      ],
      "source": [
        "df_books.index # RangeIndex(start=0, stop=271379, step=1)"
      ]
    },
    {
      "cell_type": "code",
      "execution_count": 15,
      "metadata": {
        "colab": {
          "base_uri": "https://localhost:8080/"
        },
        "id": "xqbe3oZBdLSu",
        "outputId": "de75311f-eb8e-4191-87a3-f419260afa68"
      },
      "outputs": [
        {
          "data": {
            "text/plain": [
              "Index(['isbn', 'title', 'author'], dtype='object')"
            ]
          },
          "execution_count": 15,
          "metadata": {},
          "output_type": "execute_result"
        }
      ],
      "source": [
        "df_books.columns # Index(['isbn', 'title', 'author'], dtype='object')"
      ]
    },
    {
      "cell_type": "code",
      "execution_count": 16,
      "metadata": {
        "colab": {
          "base_uri": "https://localhost:8080/"
        },
        "id": "C1oGtVk4dLqk",
        "outputId": "a2346427-dd7e-4711-bb58-c0f4b47733ff"
      },
      "outputs": [
        {
          "data": {
            "text/plain": [
              "isbn      0\n",
              "title     0\n",
              "author    1\n",
              "dtype: int64"
            ]
          },
          "execution_count": 16,
          "metadata": {},
          "output_type": "execute_result"
        }
      ],
      "source": [
        "df_books.isna().sum() # isbn 0, title 0, author 1"
      ]
    },
    {
      "cell_type": "code",
      "execution_count": 17,
      "metadata": {
        "colab": {
          "base_uri": "https://localhost:8080/"
        },
        "id": "XYahDnpVdXiQ",
        "outputId": "7e17760c-d563-47f0-e04e-167738e0d9c9"
      },
      "outputs": [
        {
          "data": {
            "text/plain": [
              "isbn      271379\n",
              "title     271379\n",
              "author    271378\n",
              "dtype: int64"
            ]
          },
          "execution_count": 17,
          "metadata": {},
          "output_type": "execute_result"
        }
      ],
      "source": [
        "df_books.notna().sum()"
      ]
    },
    {
      "cell_type": "markdown",
      "metadata": {
        "id": "sE02le3aflWB"
      },
      "source": [
        "#### Plot"
      ]
    },
    {
      "cell_type": "code",
      "execution_count": 18,
      "metadata": {
        "colab": {
          "base_uri": "https://localhost:8080/",
          "height": 0
        },
        "id": "BxNLQJU_fnE4",
        "outputId": "a74a9036-4f88-44d3-826b-41704691c5e6"
      },
      "outputs": [
        {
          "data": {
            "text/plain": [
              "<matplotlib.axes._subplots.AxesSubplot at 0x7f6904c21100>"
            ]
          },
          "execution_count": 18,
          "metadata": {},
          "output_type": "execute_result"
        },
        {
          "data": {
            "image/png": "[encoded data removed]",
            "text/plain": [
              "<Figure size 936x288 with 1 Axes>"
            ]
          },
          "metadata": {
            "needs_background": "light"
          },
          "output_type": "display_data"
        }
      ],
      "source": [
        "# Top 5 Authors in Number of Books\n",
        "df_books['author'].value_counts().head(5).plot(kind='barh', figsize=(13,4), title='Top 5 Authors in Book Volume')"
      ]
    },
    {
      "cell_type": "markdown",
      "metadata": {
        "id": "xyqEVC8waQ96"
      },
      "source": [
        "### Basic Info: ```df_ratings```"
      ]
    },
    {
      "cell_type": "markdown",
      "metadata": {
        "id": "yOcnaSCLfWCx"
      },
      "source": [
        "#### Information"
      ]
    },
    {
      "cell_type": "code",
      "execution_count": 19,
      "metadata": {
        "colab": {
          "base_uri": "https://localhost:8080/"
        },
        "id": "pwcdNfWjb2aq",
        "outputId": "d83c3612-f875-4514-f948-530fe59c4cbb"
      },
      "outputs": [
        {
          "name": "stdout",
          "output_type": "stream",
          "text": [
            "<class 'pandas.core.frame.DataFrame'>\n",
            "RangeIndex: 1149780 entries, 0 to 1149779\n",
            "Data columns (total 3 columns):\n",
            " #   Column  Non-Null Count    Dtype  \n",
            "---  ------  --------------    -----  \n",
            " 0   user    1149780 non-null  int32  \n",
            " 1   isbn    1149780 non-null  object \n",
            " 2   rating  1149780 non-null  float32\n",
            "dtypes: float32(1), int32(1), object(1)\n",
            "memory usage: 17.5+ MB\n"
          ]
        }
      ],
      "source": [
        "df_ratings.info()"
      ]
    },
    {
      "cell_type": "code",
      "execution_count": 20,
      "metadata": {
        "colab": {
          "base_uri": "https://localhost:8080/",
          "height": 0
        },
        "id": "SuBGTGDyfAtU",
        "outputId": "d7a2eda4-5602-4bd0-ec2f-c329105e042c"
      },
      "outputs": [
        {
          "data": {
            "text/html": [
              "\n",
              "  <div id=\"df-564dac82-6818-4f2f-b340-8f3b8a7d804b\">\n",
              "    <div class=\"colab-df-container\">\n",
              "      <div>\n",
              "<style scoped>\n",
              "    .dataframe tbody tr th:only-of-type {\n",
              "        vertical-align: middle;\n",
              "    }\n",
              "\n",
              "    .dataframe tbody tr th {\n",
              "        vertical-align: top;\n",
              "    }\n",
              "\n",
              "    .dataframe thead th {\n",
              "        text-align: right;\n",
              "    }\n",
              "</style>\n",
              "<table border=\"1\" class=\"dataframe\">\n",
              "  <thead>\n",
              "    <tr style=\"text-align: right;\">\n",
              "      <th></th>\n",
              "      <th>user</th>\n",
              "      <th>rating</th>\n",
              "    </tr>\n",
              "  </thead>\n",
              "  <tbody>\n",
              "    <tr>\n",
              "      <th>count</th>\n",
              "      <td>1.149780e+06</td>\n",
              "      <td>1.149780e+06</td>\n",
              "    </tr>\n",
              "    <tr>\n",
              "      <th>mean</th>\n",
              "      <td>1.403864e+05</td>\n",
              "      <td>2.866950e+00</td>\n",
              "    </tr>\n",
              "    <tr>\n",
              "      <th>std</th>\n",
              "      <td>8.056228e+04</td>\n",
              "      <td>3.854184e+00</td>\n",
              "    </tr>\n",
              "    <tr>\n",
              "      <th>min</th>\n",
              "      <td>2.000000e+00</td>\n",
              "      <td>0.000000e+00</td>\n",
              "    </tr>\n",
              "    <tr>\n",
              "      <th>25%</th>\n",
              "      <td>7.034500e+04</td>\n",
              "      <td>0.000000e+00</td>\n",
              "    </tr>\n",
              "    <tr>\n",
              "      <th>50%</th>\n",
              "      <td>1.410100e+05</td>\n",
              "      <td>0.000000e+00</td>\n",
              "    </tr>\n",
              "    <tr>\n",
              "      <th>75%</th>\n",
              "      <td>2.110280e+05</td>\n",
              "      <td>7.000000e+00</td>\n",
              "    </tr>\n",
              "    <tr>\n",
              "      <th>max</th>\n",
              "      <td>2.788540e+05</td>\n",
              "      <td>1.000000e+01</td>\n",
              "    </tr>\n",
              "  </tbody>\n",
              "</table>\n",
              "</div>\n",
              "      <button class=\"colab-df-convert\" onclick=\"convertToInteractive('df-564dac82-6818-4f2f-b340-8f3b8a7d804b')\"\n",
              "              title=\"Convert this dataframe to an interactive table.\"\n",
              "              style=\"display:none;\">\n",
              "        \n",
              "  <svg xmlns=\"http://www.w3.org/2000/svg\" height=\"24px\"viewBox=\"0 0 24 24\"\n",
              "       width=\"24px\">\n",
              "    <path d=\"M0 0h24v24H0V0z\" fill=\"none\"/>\n",
              "    <path d=\"M18.56 5.44l.94 2.06.94-2.06 2.06-.94-2.06-.94-.94-2.06-.94 2.06-2.06.94zm-11 1L8.5 8.5l.94-2.06 2.06-.94-2.06-.94L8.5 2.5l-.94 2.06-2.06.94zm10 10l.94 2.06.94-2.06 2.06-.94-2.06-.94-.94-2.06-.94 2.06-2.06.94z\"/><path d=\"M17.41 7.96l-1.37-1.37c-.4-.4-.92-.59-1.43-.59-.52 0-1.04.2-1.43.59L10.3 9.45l-7.72 7.72c-.78.78-.78 2.05 0 2.83L4 21.41c.39.39.9.59 1.41.59.51 0 1.02-.2 1.41-.59l7.78-7.78 2.81-2.81c.8-.78.8-2.07 0-2.86zM5.41 20L4 18.59l7.72-7.72 1.47 1.35L5.41 20z\"/>\n",
              "  </svg>\n",
              "      </button>\n",
              "      \n",
              "  <style>\n",
              "    .colab-df-container {\n",
              "      display:flex;\n",
              "      flex-wrap:wrap;\n",
              "      gap: 12px;\n",
              "    }\n",
              "\n",
              "    .colab-df-convert {\n",
              "      background-color: #E8F0FE;\n",
              "      border: none;\n",
              "      border-radius: 50%;\n",
              "      cursor: pointer;\n",
              "      display: none;\n",
              "      fill: #1967D2;\n",
              "      height: 32px;\n",
              "      padding: 0 0 0 0;\n",
              "      width: 32px;\n",
              "    }\n",
              "\n",
              "    .colab-df-convert:hover {\n",
              "      background-color: #E2EBFA;\n",
              "      box-shadow: 0px 1px 2px rgba(60, 64, 67, 0.3), 0px 1px 3px 1px rgba(60, 64, 67, 0.15);\n",
              "      fill: #174EA6;\n",
              "    }\n",
              "\n",
              "    [theme=dark] .colab-df-convert {\n",
              "      background-color: #3B4455;\n",
              "      fill: #D2E3FC;\n",
              "    }\n",
              "\n",
              "    [theme=dark] .colab-df-convert:hover {\n",
              "      background-color: #434B5C;\n",
              "      box-shadow: 0px 1px 3px 1px rgba(0, 0, 0, 0.15);\n",
              "      filter: drop-shadow(0px 1px 2px rgba(0, 0, 0, 0.3));\n",
              "      fill: #FFFFFF;\n",
              "    }\n",
              "  </style>\n",
              "\n",
              "      <script>\n",
              "        const buttonEl =\n",
              "          document.querySelector('#df-564dac82-6818-4f2f-b340-8f3b8a7d804b button.colab-df-convert');\n",
              "        buttonEl.style.display =\n",
              "          google.colab.kernel.accessAllowed ? 'block' : 'none';\n",
              "\n",
              "        async function convertToInteractive(key) {\n",
              "          const element = document.querySelector('#df-564dac82-6818-4f2f-b340-8f3b8a7d804b');\n",
              "          const dataTable =\n",
              "            await google.colab.kernel.invokeFunction('convertToInteractive',\n",
              "                                                     [key], {});\n",
              "          if (!dataTable) return;\n",
              "\n",
              "          const docLinkHtml = 'Like what you see? Visit the ' +\n",
              "            '<a target=\"_blank\" href=https://colab.research.google.com/notebooks/data_table.ipynb>data table notebook</a>'\n",
              "            + ' to learn more about interactive tables.';\n",
              "          element.innerHTML = '';\n",
              "          dataTable['output_type'] = 'display_data';\n",
              "          await google.colab.output.renderOutput(dataTable, element);\n",
              "          const docLink = document.createElement('div');\n",
              "          docLink.innerHTML = docLinkHtml;\n",
              "          element.appendChild(docLink);\n",
              "        }\n",
              "      </script>\n",
              "    </div>\n",
              "  </div>\n",
              "  "
            ],
            "text/plain": [
              "               user        rating\n",
              "count  1.149780e+06  1.149780e+06\n",
              "mean   1.403864e+05  2.866950e+00\n",
              "std    8.056228e+04  3.854184e+00\n",
              "min    2.000000e+00  0.000000e+00\n",
              "25%    7.034500e+04  0.000000e+00\n",
              "50%    1.410100e+05  0.000000e+00\n",
              "75%    2.110280e+05  7.000000e+00\n",
              "max    2.788540e+05  1.000000e+01"
            ]
          },
          "execution_count": 20,
          "metadata": {},
          "output_type": "execute_result"
        }
      ],
      "source": [
        "df_ratings.describe()"
      ]
    },
    {
      "cell_type": "code",
      "execution_count": 21,
      "metadata": {
        "colab": {
          "base_uri": "https://localhost:8080/",
          "height": 0
        },
        "id": "EqqpuVUOfAl4",
        "outputId": "f9a51159-1396-4d44-d24f-5484a7b07c2c"
      },
      "outputs": [
        {
          "data": {
            "text/html": [
              "\n",
              "  <div id=\"df-1bbf9e20-f084-4621-b373-8eed07d46eae\">\n",
              "    <div class=\"colab-df-container\">\n",
              "      <div>\n",
              "<style scoped>\n",
              "    .dataframe tbody tr th:only-of-type {\n",
              "        vertical-align: middle;\n",
              "    }\n",
              "\n",
              "    .dataframe tbody tr th {\n",
              "        vertical-align: top;\n",
              "    }\n",
              "\n",
              "    .dataframe thead th {\n",
              "        text-align: right;\n",
              "    }\n",
              "</style>\n",
              "<table border=\"1\" class=\"dataframe\">\n",
              "  <thead>\n",
              "    <tr style=\"text-align: right;\">\n",
              "      <th></th>\n",
              "      <th>user</th>\n",
              "      <th>isbn</th>\n",
              "      <th>rating</th>\n",
              "    </tr>\n",
              "  </thead>\n",
              "  <tbody>\n",
              "    <tr>\n",
              "      <th>0</th>\n",
              "      <td>276725</td>\n",
              "      <td>034545104X</td>\n",
              "      <td>0.0</td>\n",
              "    </tr>\n",
              "    <tr>\n",
              "      <th>1</th>\n",
              "      <td>276726</td>\n",
              "      <td>0155061224</td>\n",
              "      <td>5.0</td>\n",
              "    </tr>\n",
              "    <tr>\n",
              "      <th>2</th>\n",
              "      <td>276727</td>\n",
              "      <td>0446520802</td>\n",
              "      <td>0.0</td>\n",
              "    </tr>\n",
              "  </tbody>\n",
              "</table>\n",
              "</div>\n",
              "      <button class=\"colab-df-convert\" onclick=\"convertToInteractive('df-1bbf9e20-f084-4621-b373-8eed07d46eae')\"\n",
              "              title=\"Convert this dataframe to an interactive table.\"\n",
              "              style=\"display:none;\">\n",
              "        \n",
              "  <svg xmlns=\"http://www.w3.org/2000/svg\" height=\"24px\"viewBox=\"0 0 24 24\"\n",
              "       width=\"24px\">\n",
              "    <path d=\"M0 0h24v24H0V0z\" fill=\"none\"/>\n",
              "    <path d=\"M18.56 5.44l.94 2.06.94-2.06 2.06-.94-2.06-.94-.94-2.06-.94 2.06-2.06.94zm-11 1L8.5 8.5l.94-2.06 2.06-.94-2.06-.94L8.5 2.5l-.94 2.06-2.06.94zm10 10l.94 2.06.94-2.06 2.06-.94-2.06-.94-.94-2.06-.94 2.06-2.06.94z\"/><path d=\"M17.41 7.96l-1.37-1.37c-.4-.4-.92-.59-1.43-.59-.52 0-1.04.2-1.43.59L10.3 9.45l-7.72 7.72c-.78.78-.78 2.05 0 2.83L4 21.41c.39.39.9.59 1.41.59.51 0 1.02-.2 1.41-.59l7.78-7.78 2.81-2.81c.8-.78.8-2.07 0-2.86zM5.41 20L4 18.59l7.72-7.72 1.47 1.35L5.41 20z\"/>\n",
              "  </svg>\n",
              "      </button>\n",
              "      \n",
              "  <style>\n",
              "    .colab-df-container {\n",
              "      display:flex;\n",
              "      flex-wrap:wrap;\n",
              "      gap: 12px;\n",
              "    }\n",
              "\n",
              "    .colab-df-convert {\n",
              "      background-color: #E8F0FE;\n",
              "      border: none;\n",
              "      border-radius: 50%;\n",
              "      cursor: pointer;\n",
              "      display: none;\n",
              "      fill: #1967D2;\n",
              "      height: 32px;\n",
              "      padding: 0 0 0 0;\n",
              "      width: 32px;\n",
              "    }\n",
              "\n",
              "    .colab-df-convert:hover {\n",
              "      background-color: #E2EBFA;\n",
              "      box-shadow: 0px 1px 2px rgba(60, 64, 67, 0.3), 0px 1px 3px 1px rgba(60, 64, 67, 0.15);\n",
              "      fill: #174EA6;\n",
              "    }\n",
              "\n",
              "    [theme=dark] .colab-df-convert {\n",
              "      background-color: #3B4455;\n",
              "      fill: #D2E3FC;\n",
              "    }\n",
              "\n",
              "    [theme=dark] .colab-df-convert:hover {\n",
              "      background-color: #434B5C;\n",
              "      box-shadow: 0px 1px 3px 1px rgba(0, 0, 0, 0.15);\n",
              "      filter: drop-shadow(0px 1px 2px rgba(0, 0, 0, 0.3));\n",
              "      fill: #FFFFFF;\n",
              "    }\n",
              "  </style>\n",
              "\n",
              "      <script>\n",
              "        const buttonEl =\n",
              "          document.querySelector('#df-1bbf9e20-f084-4621-b373-8eed07d46eae button.colab-df-convert');\n",
              "        buttonEl.style.display =\n",
              "          google.colab.kernel.accessAllowed ? 'block' : 'none';\n",
              "\n",
              "        async function convertToInteractive(key) {\n",
              "          const element = document.querySelector('#df-1bbf9e20-f084-4621-b373-8eed07d46eae');\n",
              "          const dataTable =\n",
              "            await google.colab.kernel.invokeFunction('convertToInteractive',\n",
              "                                                     [key], {});\n",
              "          if (!dataTable) return;\n",
              "\n",
              "          const docLinkHtml = 'Like what you see? Visit the ' +\n",
              "            '<a target=\"_blank\" href=https://colab.research.google.com/notebooks/data_table.ipynb>data table notebook</a>'\n",
              "            + ' to learn more about interactive tables.';\n",
              "          element.innerHTML = '';\n",
              "          dataTable['output_type'] = 'display_data';\n",
              "          await google.colab.output.renderOutput(dataTable, element);\n",
              "          const docLink = document.createElement('div');\n",
              "          docLink.innerHTML = docLinkHtml;\n",
              "          element.appendChild(docLink);\n",
              "        }\n",
              "      </script>\n",
              "    </div>\n",
              "  </div>\n",
              "  "
            ],
            "text/plain": [
              "     user        isbn  rating\n",
              "0  276725  034545104X     0.0\n",
              "1  276726  0155061224     5.0\n",
              "2  276727  0446520802     0.0"
            ]
          },
          "execution_count": 21,
          "metadata": {},
          "output_type": "execute_result"
        }
      ],
      "source": [
        "df_ratings.head(3)"
      ]
    },
    {
      "cell_type": "code",
      "execution_count": 22,
      "metadata": {
        "colab": {
          "base_uri": "https://localhost:8080/",
          "height": 0
        },
        "id": "Chts1vc5fAfc",
        "outputId": "cc5e9f41-eff4-49eb-93c9-7ad6bad0c8c6"
      },
      "outputs": [
        {
          "data": {
            "text/html": [
              "\n",
              "  <div id=\"df-de77a93c-323a-4e54-a085-e3f2361f276b\">\n",
              "    <div class=\"colab-df-container\">\n",
              "      <div>\n",
              "<style scoped>\n",
              "    .dataframe tbody tr th:only-of-type {\n",
              "        vertical-align: middle;\n",
              "    }\n",
              "\n",
              "    .dataframe tbody tr th {\n",
              "        vertical-align: top;\n",
              "    }\n",
              "\n",
              "    .dataframe thead th {\n",
              "        text-align: right;\n",
              "    }\n",
              "</style>\n",
              "<table border=\"1\" class=\"dataframe\">\n",
              "  <thead>\n",
              "    <tr style=\"text-align: right;\">\n",
              "      <th></th>\n",
              "      <th>user</th>\n",
              "      <th>isbn</th>\n",
              "      <th>rating</th>\n",
              "    </tr>\n",
              "  </thead>\n",
              "  <tbody>\n",
              "    <tr>\n",
              "      <th>1149777</th>\n",
              "      <td>276709</td>\n",
              "      <td>0515107662</td>\n",
              "      <td>10.0</td>\n",
              "    </tr>\n",
              "    <tr>\n",
              "      <th>1149778</th>\n",
              "      <td>276721</td>\n",
              "      <td>0590442449</td>\n",
              "      <td>10.0</td>\n",
              "    </tr>\n",
              "    <tr>\n",
              "      <th>1149779</th>\n",
              "      <td>276723</td>\n",
              "      <td>05162443314</td>\n",
              "      <td>8.0</td>\n",
              "    </tr>\n",
              "  </tbody>\n",
              "</table>\n",
              "</div>\n",
              "      <button class=\"colab-df-convert\" onclick=\"convertToInteractive('df-de77a93c-323a-4e54-a085-e3f2361f276b')\"\n",
              "              title=\"Convert this dataframe to an interactive table.\"\n",
              "              style=\"display:none;\">\n",
              "        \n",
              "  <svg xmlns=\"http://www.w3.org/2000/svg\" height=\"24px\"viewBox=\"0 0 24 24\"\n",
              "       width=\"24px\">\n",
              "    <path d=\"M0 0h24v24H0V0z\" fill=\"none\"/>\n",
              "    <path d=\"M18.56 5.44l.94 2.06.94-2.06 2.06-.94-2.06-.94-.94-2.06-.94 2.06-2.06.94zm-11 1L8.5 8.5l.94-2.06 2.06-.94-2.06-.94L8.5 2.5l-.94 2.06-2.06.94zm10 10l.94 2.06.94-2.06 2.06-.94-2.06-.94-.94-2.06-.94 2.06-2.06.94z\"/><path d=\"M17.41 7.96l-1.37-1.37c-.4-.4-.92-.59-1.43-.59-.52 0-1.04.2-1.43.59L10.3 9.45l-7.72 7.72c-.78.78-.78 2.05 0 2.83L4 21.41c.39.39.9.59 1.41.59.51 0 1.02-.2 1.41-.59l7.78-7.78 2.81-2.81c.8-.78.8-2.07 0-2.86zM5.41 20L4 18.59l7.72-7.72 1.47 1.35L5.41 20z\"/>\n",
              "  </svg>\n",
              "      </button>\n",
              "      \n",
              "  <style>\n",
              "    .colab-df-container {\n",
              "      display:flex;\n",
              "      flex-wrap:wrap;\n",
              "      gap: 12px;\n",
              "    }\n",
              "\n",
              "    .colab-df-convert {\n",
              "      background-color: #E8F0FE;\n",
              "      border: none;\n",
              "      border-radius: 50%;\n",
              "      cursor: pointer;\n",
              "      display: none;\n",
              "      fill: #1967D2;\n",
              "      height: 32px;\n",
              "      padding: 0 0 0 0;\n",
              "      width: 32px;\n",
              "    }\n",
              "\n",
              "    .colab-df-convert:hover {\n",
              "      background-color: #E2EBFA;\n",
              "      box-shadow: 0px 1px 2px rgba(60, 64, 67, 0.3), 0px 1px 3px 1px rgba(60, 64, 67, 0.15);\n",
              "      fill: #174EA6;\n",
              "    }\n",
              "\n",
              "    [theme=dark] .colab-df-convert {\n",
              "      background-color: #3B4455;\n",
              "      fill: #D2E3FC;\n",
              "    }\n",
              "\n",
              "    [theme=dark] .colab-df-convert:hover {\n",
              "      background-color: #434B5C;\n",
              "      box-shadow: 0px 1px 3px 1px rgba(0, 0, 0, 0.15);\n",
              "      filter: drop-shadow(0px 1px 2px rgba(0, 0, 0, 0.3));\n",
              "      fill: #FFFFFF;\n",
              "    }\n",
              "  </style>\n",
              "\n",
              "      <script>\n",
              "        const buttonEl =\n",
              "          document.querySelector('#df-de77a93c-323a-4e54-a085-e3f2361f276b button.colab-df-convert');\n",
              "        buttonEl.style.display =\n",
              "          google.colab.kernel.accessAllowed ? 'block' : 'none';\n",
              "\n",
              "        async function convertToInteractive(key) {\n",
              "          const element = document.querySelector('#df-de77a93c-323a-4e54-a085-e3f2361f276b');\n",
              "          const dataTable =\n",
              "            await google.colab.kernel.invokeFunction('convertToInteractive',\n",
              "                                                     [key], {});\n",
              "          if (!dataTable) return;\n",
              "\n",
              "          const docLinkHtml = 'Like what you see? Visit the ' +\n",
              "            '<a target=\"_blank\" href=https://colab.research.google.com/notebooks/data_table.ipynb>data table notebook</a>'\n",
              "            + ' to learn more about interactive tables.';\n",
              "          element.innerHTML = '';\n",
              "          dataTable['output_type'] = 'display_data';\n",
              "          await google.colab.output.renderOutput(dataTable, element);\n",
              "          const docLink = document.createElement('div');\n",
              "          docLink.innerHTML = docLinkHtml;\n",
              "          element.appendChild(docLink);\n",
              "        }\n",
              "      </script>\n",
              "    </div>\n",
              "  </div>\n",
              "  "
            ],
            "text/plain": [
              "           user         isbn  rating\n",
              "1149777  276709   0515107662    10.0\n",
              "1149778  276721   0590442449    10.0\n",
              "1149779  276723  05162443314     8.0"
            ]
          },
          "execution_count": 22,
          "metadata": {},
          "output_type": "execute_result"
        }
      ],
      "source": [
        "df_ratings.tail(3)"
      ]
    },
    {
      "cell_type": "code",
      "execution_count": 23,
      "metadata": {
        "colab": {
          "base_uri": "https://localhost:8080/"
        },
        "id": "u86OwofCfAZs",
        "outputId": "eaac6adb-8208-4ef6-8aea-0ccf3bb64dab"
      },
      "outputs": [
        {
          "data": {
            "text/plain": [
              "(1149780, 3)"
            ]
          },
          "execution_count": 23,
          "metadata": {},
          "output_type": "execute_result"
        }
      ],
      "source": [
        "df_ratings.shape # (1_149_780, 3)"
      ]
    },
    {
      "cell_type": "code",
      "execution_count": 24,
      "metadata": {
        "colab": {
          "base_uri": "https://localhost:8080/"
        },
        "id": "oxoapl2mfAUR",
        "outputId": "810f0e06-5305-4390-8121-113363fe9e5d"
      },
      "outputs": [
        {
          "data": {
            "text/plain": [
              "1149780"
            ]
          },
          "execution_count": 24,
          "metadata": {},
          "output_type": "execute_result"
        }
      ],
      "source": [
        "df_ratings.shape[0] # 1_149_780"
      ]
    },
    {
      "cell_type": "code",
      "execution_count": 25,
      "metadata": {
        "colab": {
          "base_uri": "https://localhost:8080/"
        },
        "id": "6OtMRBsbfAPA",
        "outputId": "8ec9affc-5416-4596-eccd-779742e9d437"
      },
      "outputs": [
        {
          "data": {
            "text/plain": [
              "2"
            ]
          },
          "execution_count": 25,
          "metadata": {},
          "output_type": "execute_result"
        }
      ],
      "source": [
        "df_ratings.ndim # 2"
      ]
    },
    {
      "cell_type": "code",
      "execution_count": 26,
      "metadata": {
        "colab": {
          "base_uri": "https://localhost:8080/"
        },
        "id": "ZLukBXKXfAJK",
        "outputId": "536eb971-3a20-44eb-f57c-cdd0217d185f"
      },
      "outputs": [
        {
          "data": {
            "text/plain": [
              "3449340"
            ]
          },
          "execution_count": 26,
          "metadata": {},
          "output_type": "execute_result"
        }
      ],
      "source": [
        "df_ratings.size # 3_449_340"
      ]
    },
    {
      "cell_type": "code",
      "execution_count": 27,
      "metadata": {
        "colab": {
          "base_uri": "https://localhost:8080/"
        },
        "id": "mIC6vT57fAC5",
        "outputId": "1a7ec38d-4314-4a45-a364-407698eedaa7"
      },
      "outputs": [
        {
          "data": {
            "text/plain": [
              "RangeIndex(start=0, stop=1149780, step=1)"
            ]
          },
          "execution_count": 27,
          "metadata": {},
          "output_type": "execute_result"
        }
      ],
      "source": [
        "df_ratings.index # RangeIndex(start=0, stop=1149780, step=1)"
      ]
    },
    {
      "cell_type": "code",
      "execution_count": 28,
      "metadata": {
        "colab": {
          "base_uri": "https://localhost:8080/"
        },
        "id": "38TFYsZQe_7B",
        "outputId": "212989b0-b9af-422e-bc09-bea51b6e48e6"
      },
      "outputs": [
        {
          "data": {
            "text/plain": [
              "Index(['user', 'isbn', 'rating'], dtype='object')"
            ]
          },
          "execution_count": 28,
          "metadata": {},
          "output_type": "execute_result"
        }
      ],
      "source": [
        "df_ratings.columns # Index(['user', 'isbn', 'rating'], dtype='object')"
      ]
    },
    {
      "cell_type": "code",
      "execution_count": 29,
      "metadata": {
        "colab": {
          "base_uri": "https://localhost:8080/"
        },
        "id": "5zyyG4yye_pJ",
        "outputId": "9b975b35-ed64-47cf-ee58-d456bd34e668"
      },
      "outputs": [
        {
          "data": {
            "text/plain": [
              "user      0\n",
              "isbn      0\n",
              "rating    0\n",
              "dtype: int64"
            ]
          },
          "execution_count": 29,
          "metadata": {},
          "output_type": "execute_result"
        }
      ],
      "source": [
        "df_ratings.isna().sum() # user 0, isbn 0, rating 0"
      ]
    },
    {
      "cell_type": "code",
      "execution_count": 30,
      "metadata": {
        "colab": {
          "base_uri": "https://localhost:8080/"
        },
        "id": "2Sq3n7SUe_jU",
        "outputId": "42411ca0-8f33-43eb-d485-159314ee535a"
      },
      "outputs": [
        {
          "data": {
            "text/plain": [
              "user      1149780\n",
              "isbn      1149780\n",
              "rating    1149780\n",
              "dtype: int64"
            ]
          },
          "execution_count": 30,
          "metadata": {},
          "output_type": "execute_result"
        }
      ],
      "source": [
        "df_ratings.notna().sum()"
      ]
    },
    {
      "cell_type": "code",
      "execution_count": 31,
      "metadata": {
        "colab": {
          "base_uri": "https://localhost:8080/"
        },
        "id": "efxjLgirzvt-",
        "outputId": "3db4b8e8-6be0-4e5c-fe38-79131e17287f"
      },
      "outputs": [
        {
          "name": "stdout",
          "output_type": "stream",
          "text": [
            "105283 unique users\n",
            "340556 unique books\n",
            "11 unique ratings\n"
          ]
        }
      ],
      "source": [
        "# How many unique users, books and ratings?\n",
        "print(\"{} unique users\".format(df_ratings.user.value_counts().count())) # 105283 unique users\n",
        "print(\"{} unique books\".format(df_ratings.isbn.value_counts().count())) # 340556 unique books\n",
        "print(\"{} unique ratings\".format(df_ratings.rating.value_counts().count())) # 11 unique ratings (0-10)"
      ]
    },
    {
      "cell_type": "markdown",
      "metadata": {
        "id": "GBdGRu2ffa6J"
      },
      "source": [
        "#### Plot"
      ]
    },
    {
      "cell_type": "code",
      "execution_count": 32,
      "metadata": {
        "colab": {
          "base_uri": "https://localhost:8080/",
          "height": 0
        },
        "id": "2OQjLA_HY8cM",
        "outputId": "f65ac83e-f5cc-4bbe-c824-a3d23b7a074f"
      },
      "outputs": [
        {
          "data": {
            "text/plain": [
              "<matplotlib.axes._subplots.AxesSubplot at 0x7f69046a5df0>"
            ]
          },
          "execution_count": 32,
          "metadata": {},
          "output_type": "execute_result"
        },
        {
          "data": {
            "image/png": "[encoded data removed]",
            "text/plain": [
              "<Figure size 936x288 with 1 Axes>"
            ]
          },
          "metadata": {
            "needs_background": "light"
          },
          "output_type": "display_data"
        }
      ],
      "source": [
        "# Rating Volume\n",
        "df_ratings['rating'].value_counts().plot(kind='bar', figsize=(13,4), title='Rating Volume')"
      ]
    },
    {
      "cell_type": "code",
      "execution_count": 33,
      "metadata": {
        "colab": {
          "base_uri": "https://localhost:8080/",
          "height": 0
        },
        "id": "Q90wSahCgSfA",
        "outputId": "6184e94e-b8e5-4ac8-bb91-c93a813f1263"
      },
      "outputs": [
        {
          "data": {
            "text/plain": [
              "<matplotlib.axes._subplots.AxesSubplot at 0x7f6904645fd0>"
            ]
          },
          "execution_count": 33,
          "metadata": {},
          "output_type": "execute_result"
        },
        {
          "data": {
            "image/png": "[encoded data removed]",
            "text/plain": [
              "<Figure size 936x288 with 1 Axes>"
            ]
          },
          "metadata": {},
          "output_type": "display_data"
        }
      ],
      "source": [
        "df_ratings['rating'].value_counts().plot(kind='pie', figsize=(13,4), title='Rating Volume')"
      ]
    },
    {
      "cell_type": "code",
      "execution_count": 34,
      "metadata": {
        "id": "wRToqSy-ZDEO"
      },
      "outputs": [],
      "source": [
        "mask1 = df_ratings['rating'] > 0\n",
        "\n",
        "#plt.figure(figsize=(14,6))\n",
        "#x = df_ratings['rating']\n",
        "#y = df_ratings['user']\n",
        "#plt.plot(x, y)"
      ]
    },
    {
      "cell_type": "code",
      "execution_count": 35,
      "metadata": {
        "colab": {
          "base_uri": "https://localhost:8080/",
          "height": 0
        },
        "id": "aUTUvFg0oksK",
        "outputId": "edfeb18b-e6d4-4749-e6a4-d039b3e6efb3"
      },
      "outputs": [
        {
          "data": {
            "text/plain": [
              "<matplotlib.axes._subplots.AxesSubplot at 0x7f69045b6bb0>"
            ]
          },
          "execution_count": 35,
          "metadata": {},
          "output_type": "execute_result"
        },
        {
          "data": {
            "image/png": "[encoded data removed]",
            "text/plain": [
              "<Figure size 936x288 with 1 Axes>"
            ]
          },
          "metadata": {
            "needs_background": "light"
          },
          "output_type": "display_data"
        }
      ],
      "source": [
        "# top 5 users with more reviews\n",
        "df_ratings.loc[mask1, ['user']].value_counts().head(5).plot(kind='barh', figsize=(13,4), title='top 5 users with more reviews'.title())"
      ]
    },
    {
      "cell_type": "code",
      "execution_count": 36,
      "metadata": {
        "colab": {
          "base_uri": "https://localhost:8080/",
          "height": 0
        },
        "id": "run_9oshoOGa",
        "outputId": "6983ed82-4b67-490e-dcbb-2ba6f4dbebbe"
      },
      "outputs": [
        {
          "data": {
            "text/plain": [
              "<matplotlib.axes._subplots.AxesSubplot at 0x7f69045987c0>"
            ]
          },
          "execution_count": 36,
          "metadata": {},
          "output_type": "execute_result"
        },
        {
          "data": {
            "image/png": "[encoded data removed]",
            "text/plain": [
              "<Figure size 936x288 with 1 Axes>"
            ]
          },
          "metadata": {
            "needs_background": "light"
          },
          "output_type": "display_data"
        }
      ],
      "source": [
        "# top 5 books with more reviews\n",
        "df_ratings.loc[mask1, ['isbn']].value_counts().head(5).plot(kind='barh', figsize=(13,4), title='top 5 books with more reviews'.title())"
      ]
    },
    {
      "cell_type": "markdown",
      "metadata": {
        "id": "Koca4rgLa-Wa"
      },
      "source": [
        "## 4. Clean The Data"
      ]
    },
    {
      "cell_type": "markdown",
      "metadata": {
        "id": "-dfx8J8ffEl0"
      },
      "source": [
        "### Pre-Cleaning"
      ]
    },
    {
      "cell_type": "code",
      "execution_count": 37,
      "metadata": {
        "id": "6vTjjuQSpoAa"
      },
      "outputs": [],
      "source": [
        "# Create cleaning data\n",
        "df_books_clean = df_books.copy()\n",
        "df_ratings_clean = df_ratings.copy()"
      ]
    },
    {
      "cell_type": "code",
      "execution_count": 38,
      "metadata": {
        "colab": {
          "base_uri": "https://localhost:8080/"
        },
        "id": "OUYCd23F21C0",
        "outputId": "8c2b20f6-7ab2-4b15-d428-851171700526"
      },
      "outputs": [
        {
          "data": {
            "text/plain": [
              "True"
            ]
          },
          "execution_count": 38,
          "metadata": {},
          "output_type": "execute_result"
        }
      ],
      "source": [
        "# Validate isbn 10-character value (check if is mathematically valid)\n",
        "\n",
        "#EXAMPLE: \n",
        "# ISBN: 0-7167-0344-0\n",
        "# (\"0\" x 10) + (\"7\" x 9) + (\"1\" x 8) + (\"6\" x 7) + (\"7\" x 6) + (\"0\" x 5) + (\"3\" x 4) + (\"4\" x 3) + (\"4\" x 2) + (\"0\" x 1) =\n",
        "# = 187 ----> 187 / 11 = 17 ... 0 (remainder). The remainder is 0, thus a valid 10 digit ISBN! \n",
        "\n",
        "#SPECIAL NOTE:\n",
        "#Sometimes an “X” appears—and what it actually means is “10.” Here’s why:\n",
        "#The ISBN has several parts which are all code for something. The final \n",
        "#digit is known as the “check digit” and it verifies the ISBN. Check digits \n",
        "#go from 0 to 10. In cases where the check digit would be 10, it appears as \n",
        "#an X. The X only appears in 10-digit ISBNs.\n",
        "#Source: https://rachellegardner.com/isbn-10-isbn-13-and-those-pesky-x%E2%80%99s/\n",
        "\n",
        "def validate_ten_digit_isbn(isbn):\n",
        "  isbn_str = str(isbn)\n",
        "  has_10_chars = len(isbn_str) == 10\n",
        "  if not has_10_chars: return False\n",
        "  first_9_chars_are_digit = all(str.isdigit(char) for char in isbn_str[:9])\n",
        "  if not first_9_chars_are_digit: return False\n",
        "  last_char_is_digit_or_X = str.isdigit(isbn_str[-1]) or isbn_str[-1] == 'X'\n",
        "  if not last_char_is_digit_or_X: return False\n",
        "  pos = 10\n",
        "  sum = 0\n",
        "  for char in isbn_str:\n",
        "    if str.isdigit(char):\n",
        "      sum += ( int(char) * pos )\n",
        "    elif char == 'X':\n",
        "      sum += ( 10 * pos )\n",
        "    pos -= 1\n",
        "  if sum % 11 == 0: return True # ISBN valid\n",
        "  else: return False # ISBN invalid\n",
        "\n",
        "#ISBN = isbn_values_clean.to_list()[0] # 0061009059\n",
        "ISBN = '0061009059'\n",
        "ISBN_X = '034538475X'\n",
        "validate_ten_digit_isbn(ISBN_X)"
      ]
    },
    {
      "cell_type": "markdown",
      "metadata": {
        "id": "584LFb6F2YnD"
      },
      "source": [
        "### Cleaning ```df_books_clean```"
      ]
    },
    {
      "cell_type": "code",
      "execution_count": 39,
      "metadata": {
        "colab": {
          "base_uri": "https://localhost:8080/",
          "height": 175
        },
        "id": "yz8EPPPODZ7s",
        "outputId": "f85fbf93-d09c-4dcf-ebd9-17e9217c35c9"
      },
      "outputs": [
        {
          "data": {
            "text/html": [
              "\n",
              "  <div id=\"df-4261162a-2b31-4c21-8963-24f9d061da8f\">\n",
              "    <div class=\"colab-df-container\">\n",
              "      <div>\n",
              "<style scoped>\n",
              "    .dataframe tbody tr th:only-of-type {\n",
              "        vertical-align: middle;\n",
              "    }\n",
              "\n",
              "    .dataframe tbody tr th {\n",
              "        vertical-align: top;\n",
              "    }\n",
              "\n",
              "    .dataframe thead th {\n",
              "        text-align: right;\n",
              "    }\n",
              "</style>\n",
              "<table border=\"1\" class=\"dataframe\">\n",
              "  <thead>\n",
              "    <tr style=\"text-align: right;\">\n",
              "      <th></th>\n",
              "      <th>isbn</th>\n",
              "      <th>title</th>\n",
              "      <th>author</th>\n",
              "    </tr>\n",
              "  </thead>\n",
              "  <tbody>\n",
              "    <tr>\n",
              "      <th>count</th>\n",
              "      <td>271379</td>\n",
              "      <td>271379</td>\n",
              "      <td>271378</td>\n",
              "    </tr>\n",
              "    <tr>\n",
              "      <th>unique</th>\n",
              "      <td>271379</td>\n",
              "      <td>242154</td>\n",
              "      <td>102042</td>\n",
              "    </tr>\n",
              "    <tr>\n",
              "      <th>top</th>\n",
              "      <td>0195153448</td>\n",
              "      <td>Selected Poems</td>\n",
              "      <td>Agatha Christie</td>\n",
              "    </tr>\n",
              "    <tr>\n",
              "      <th>freq</th>\n",
              "      <td>1</td>\n",
              "      <td>27</td>\n",
              "      <td>632</td>\n",
              "    </tr>\n",
              "  </tbody>\n",
              "</table>\n",
              "</div>\n",
              "      <button class=\"colab-df-convert\" onclick=\"convertToInteractive('df-4261162a-2b31-4c21-8963-24f9d061da8f')\"\n",
              "              title=\"Convert this dataframe to an interactive table.\"\n",
              "              style=\"display:none;\">\n",
              "        \n",
              "  <svg xmlns=\"http://www.w3.org/2000/svg\" height=\"24px\"viewBox=\"0 0 24 24\"\n",
              "       width=\"24px\">\n",
              "    <path d=\"M0 0h24v24H0V0z\" fill=\"none\"/>\n",
              "    <path d=\"M18.56 5.44l.94 2.06.94-2.06 2.06-.94-2.06-.94-.94-2.06-.94 2.06-2.06.94zm-11 1L8.5 8.5l.94-2.06 2.06-.94-2.06-.94L8.5 2.5l-.94 2.06-2.06.94zm10 10l.94 2.06.94-2.06 2.06-.94-2.06-.94-.94-2.06-.94 2.06-2.06.94z\"/><path d=\"M17.41 7.96l-1.37-1.37c-.4-.4-.92-.59-1.43-.59-.52 0-1.04.2-1.43.59L10.3 9.45l-7.72 7.72c-.78.78-.78 2.05 0 2.83L4 21.41c.39.39.9.59 1.41.59.51 0 1.02-.2 1.41-.59l7.78-7.78 2.81-2.81c.8-.78.8-2.07 0-2.86zM5.41 20L4 18.59l7.72-7.72 1.47 1.35L5.41 20z\"/>\n",
              "  </svg>\n",
              "      </button>\n",
              "      \n",
              "  <style>\n",
              "    .colab-df-container {\n",
              "      display:flex;\n",
              "      flex-wrap:wrap;\n",
              "      gap: 12px;\n",
              "    }\n",
              "\n",
              "    .colab-df-convert {\n",
              "      background-color: #E8F0FE;\n",
              "      border: none;\n",
              "      border-radius: 50%;\n",
              "      cursor: pointer;\n",
              "      display: none;\n",
              "      fill: #1967D2;\n",
              "      height: 32px;\n",
              "      padding: 0 0 0 0;\n",
              "      width: 32px;\n",
              "    }\n",
              "\n",
              "    .colab-df-convert:hover {\n",
              "      background-color: #E2EBFA;\n",
              "      box-shadow: 0px 1px 2px rgba(60, 64, 67, 0.3), 0px 1px 3px 1px rgba(60, 64, 67, 0.15);\n",
              "      fill: #174EA6;\n",
              "    }\n",
              "\n",
              "    [theme=dark] .colab-df-convert {\n",
              "      background-color: #3B4455;\n",
              "      fill: #D2E3FC;\n",
              "    }\n",
              "\n",
              "    [theme=dark] .colab-df-convert:hover {\n",
              "      background-color: #434B5C;\n",
              "      box-shadow: 0px 1px 3px 1px rgba(0, 0, 0, 0.15);\n",
              "      filter: drop-shadow(0px 1px 2px rgba(0, 0, 0, 0.3));\n",
              "      fill: #FFFFFF;\n",
              "    }\n",
              "  </style>\n",
              "\n",
              "      <script>\n",
              "        const buttonEl =\n",
              "          document.querySelector('#df-4261162a-2b31-4c21-8963-24f9d061da8f button.colab-df-convert');\n",
              "        buttonEl.style.display =\n",
              "          google.colab.kernel.accessAllowed ? 'block' : 'none';\n",
              "\n",
              "        async function convertToInteractive(key) {\n",
              "          const element = document.querySelector('#df-4261162a-2b31-4c21-8963-24f9d061da8f');\n",
              "          const dataTable =\n",
              "            await google.colab.kernel.invokeFunction('convertToInteractive',\n",
              "                                                     [key], {});\n",
              "          if (!dataTable) return;\n",
              "\n",
              "          const docLinkHtml = 'Like what you see? Visit the ' +\n",
              "            '<a target=\"_blank\" href=https://colab.research.google.com/notebooks/data_table.ipynb>data table notebook</a>'\n",
              "            + ' to learn more about interactive tables.';\n",
              "          element.innerHTML = '';\n",
              "          dataTable['output_type'] = 'display_data';\n",
              "          await google.colab.output.renderOutput(dataTable, element);\n",
              "          const docLink = document.createElement('div');\n",
              "          docLink.innerHTML = docLinkHtml;\n",
              "          element.appendChild(docLink);\n",
              "        }\n",
              "      </script>\n",
              "    </div>\n",
              "  </div>\n",
              "  "
            ],
            "text/plain": [
              "              isbn           title           author\n",
              "count       271379          271379           271378\n",
              "unique      271379          242154           102042\n",
              "top     0195153448  Selected Poems  Agatha Christie\n",
              "freq             1              27              632"
            ]
          },
          "execution_count": 39,
          "metadata": {},
          "output_type": "execute_result"
        }
      ],
      "source": [
        "df_books_clean.describe()"
      ]
    },
    {
      "cell_type": "code",
      "execution_count": 40,
      "metadata": {
        "colab": {
          "base_uri": "https://localhost:8080/"
        },
        "id": "zZLQeS1F2qOs",
        "outputId": "883b3f64-5de1-4cc9-b019-2547d226db73"
      },
      "outputs": [
        {
          "data": {
            "text/plain": [
              "(270850, 3)"
            ]
          },
          "execution_count": 40,
          "metadata": {},
          "output_type": "execute_result"
        }
      ],
      "source": [
        "# 4. Clean the data\n",
        "\n",
        "# 4.1. Filter invalid ISBN\n",
        "\n",
        "#BEFORE: df_books_clean.shape # (271379, 3)\n",
        "mask_filter_invalid_isbn = df_books_clean.isbn.map(validate_ten_digit_isbn)\n",
        "df_books_clean = df_books_clean[ mask_filter_invalid_isbn ]\n",
        "#AFTER: (249040, 3)\n",
        "\n",
        "df_books_clean.shape"
      ]
    },
    {
      "cell_type": "code",
      "execution_count": 41,
      "metadata": {
        "colab": {
          "base_uri": "https://localhost:8080/"
        },
        "id": "xtZ9fpwP4Om8",
        "outputId": "09476e7d-58d1-4603-f03d-9fb57ac3ae9c"
      },
      "outputs": [
        {
          "data": {
            "text/plain": [
              "0"
            ]
          },
          "execution_count": 41,
          "metadata": {},
          "output_type": "execute_result"
        }
      ],
      "source": [
        "# 4.2. Check for NA (not-available value) in ISBN\n",
        "\n",
        "df_books_clean.isbn.isna().sum()"
      ]
    },
    {
      "cell_type": "code",
      "execution_count": 42,
      "metadata": {
        "colab": {
          "base_uri": "https://localhost:8080/"
        },
        "id": "bOeSmT-h4X1e",
        "outputId": "66e59b35-2e50-4be1-846a-1a7ca0aff215"
      },
      "outputs": [
        {
          "data": {
            "text/plain": [
              "0"
            ]
          },
          "execution_count": 42,
          "metadata": {},
          "output_type": "execute_result"
        }
      ],
      "source": [
        "# 4.3. Check for NA (not-available value) in TITLE\n",
        "\n",
        "df_books_clean.title.isna().sum()"
      ]
    },
    {
      "cell_type": "code",
      "execution_count": 43,
      "metadata": {
        "colab": {
          "base_uri": "https://localhost:8080/",
          "height": 98
        },
        "id": "wFrHTtvP4aqH",
        "outputId": "43e59192-30a7-42dd-c5c9-2c1c2dee2977"
      },
      "outputs": [
        {
          "name": "stdout",
          "output_type": "stream",
          "text": [
            "1\n"
          ]
        },
        {
          "data": {
            "text/html": [
              "\n",
              "  <div id=\"df-4d569e43-175a-4284-bdbe-432d6fe3f2f0\">\n",
              "    <div class=\"colab-df-container\">\n",
              "      <div>\n",
              "<style scoped>\n",
              "    .dataframe tbody tr th:only-of-type {\n",
              "        vertical-align: middle;\n",
              "    }\n",
              "\n",
              "    .dataframe tbody tr th {\n",
              "        vertical-align: top;\n",
              "    }\n",
              "\n",
              "    .dataframe thead th {\n",
              "        text-align: right;\n",
              "    }\n",
              "</style>\n",
              "<table border=\"1\" class=\"dataframe\">\n",
              "  <thead>\n",
              "    <tr style=\"text-align: right;\">\n",
              "      <th></th>\n",
              "      <th>isbn</th>\n",
              "      <th>title</th>\n",
              "      <th>author</th>\n",
              "    </tr>\n",
              "  </thead>\n",
              "  <tbody>\n",
              "    <tr>\n",
              "      <th>187700</th>\n",
              "      <td>9627982032</td>\n",
              "      <td>The Credit Suisse Guide to Managing Your Perso...</td>\n",
              "      <td>NaN</td>\n",
              "    </tr>\n",
              "  </tbody>\n",
              "</table>\n",
              "</div>\n",
              "      <button class=\"colab-df-convert\" onclick=\"convertToInteractive('df-4d569e43-175a-4284-bdbe-432d6fe3f2f0')\"\n",
              "              title=\"Convert this dataframe to an interactive table.\"\n",
              "              style=\"display:none;\">\n",
              "        \n",
              "  <svg xmlns=\"http://www.w3.org/2000/svg\" height=\"24px\"viewBox=\"0 0 24 24\"\n",
              "       width=\"24px\">\n",
              "    <path d=\"M0 0h24v24H0V0z\" fill=\"none\"/>\n",
              "    <path d=\"M18.56 5.44l.94 2.06.94-2.06 2.06-.94-2.06-.94-.94-2.06-.94 2.06-2.06.94zm-11 1L8.5 8.5l.94-2.06 2.06-.94-2.06-.94L8.5 2.5l-.94 2.06-2.06.94zm10 10l.94 2.06.94-2.06 2.06-.94-2.06-.94-.94-2.06-.94 2.06-2.06.94z\"/><path d=\"M17.41 7.96l-1.37-1.37c-.4-.4-.92-.59-1.43-.59-.52 0-1.04.2-1.43.59L10.3 9.45l-7.72 7.72c-.78.78-.78 2.05 0 2.83L4 21.41c.39.39.9.59 1.41.59.51 0 1.02-.2 1.41-.59l7.78-7.78 2.81-2.81c.8-.78.8-2.07 0-2.86zM5.41 20L4 18.59l7.72-7.72 1.47 1.35L5.41 20z\"/>\n",
              "  </svg>\n",
              "      </button>\n",
              "      \n",
              "  <style>\n",
              "    .colab-df-container {\n",
              "      display:flex;\n",
              "      flex-wrap:wrap;\n",
              "      gap: 12px;\n",
              "    }\n",
              "\n",
              "    .colab-df-convert {\n",
              "      background-color: #E8F0FE;\n",
              "      border: none;\n",
              "      border-radius: 50%;\n",
              "      cursor: pointer;\n",
              "      display: none;\n",
              "      fill: #1967D2;\n",
              "      height: 32px;\n",
              "      padding: 0 0 0 0;\n",
              "      width: 32px;\n",
              "    }\n",
              "\n",
              "    .colab-df-convert:hover {\n",
              "      background-color: #E2EBFA;\n",
              "      box-shadow: 0px 1px 2px rgba(60, 64, 67, 0.3), 0px 1px 3px 1px rgba(60, 64, 67, 0.15);\n",
              "      fill: #174EA6;\n",
              "    }\n",
              "\n",
              "    [theme=dark] .colab-df-convert {\n",
              "      background-color: #3B4455;\n",
              "      fill: #D2E3FC;\n",
              "    }\n",
              "\n",
              "    [theme=dark] .colab-df-convert:hover {\n",
              "      background-color: #434B5C;\n",
              "      box-shadow: 0px 1px 3px 1px rgba(0, 0, 0, 0.15);\n",
              "      filter: drop-shadow(0px 1px 2px rgba(0, 0, 0, 0.3));\n",
              "      fill: #FFFFFF;\n",
              "    }\n",
              "  </style>\n",
              "\n",
              "      <script>\n",
              "        const buttonEl =\n",
              "          document.querySelector('#df-4d569e43-175a-4284-bdbe-432d6fe3f2f0 button.colab-df-convert');\n",
              "        buttonEl.style.display =\n",
              "          google.colab.kernel.accessAllowed ? 'block' : 'none';\n",
              "\n",
              "        async function convertToInteractive(key) {\n",
              "          const element = document.querySelector('#df-4d569e43-175a-4284-bdbe-432d6fe3f2f0');\n",
              "          const dataTable =\n",
              "            await google.colab.kernel.invokeFunction('convertToInteractive',\n",
              "                                                     [key], {});\n",
              "          if (!dataTable) return;\n",
              "\n",
              "          const docLinkHtml = 'Like what you see? Visit the ' +\n",
              "            '<a target=\"_blank\" href=https://colab.research.google.com/notebooks/data_table.ipynb>data table notebook</a>'\n",
              "            + ' to learn more about interactive tables.';\n",
              "          element.innerHTML = '';\n",
              "          dataTable['output_type'] = 'display_data';\n",
              "          await google.colab.output.renderOutput(dataTable, element);\n",
              "          const docLink = document.createElement('div');\n",
              "          docLink.innerHTML = docLinkHtml;\n",
              "          element.appendChild(docLink);\n",
              "        }\n",
              "      </script>\n",
              "    </div>\n",
              "  </div>\n",
              "  "
            ],
            "text/plain": [
              "              isbn                                              title author\n",
              "187700  9627982032  The Credit Suisse Guide to Managing Your Perso...    NaN"
            ]
          },
          "execution_count": 43,
          "metadata": {},
          "output_type": "execute_result"
        }
      ],
      "source": [
        "# 4.4. Check for NA (not-available value) in AUTHOR\n",
        "\n",
        "print(df_books_clean.author.isna().sum())\n",
        "\n",
        "mask = df_books_clean.author.isna()\n",
        "df_books_clean[ mask ]"
      ]
    },
    {
      "cell_type": "code",
      "execution_count": 44,
      "metadata": {
        "id": "m02zj-Wt96VM"
      },
      "outputs": [],
      "source": [
        "# 4.5. Replace \"&amp;\" for \"&\" (ampersand)\n",
        "\n",
        "df_books_clean['title'] = df_books_clean['title'].str.replace('&amp;', '&')\n",
        "df_books_clean['author'] = df_books_clean['author'].str.replace('&amp;', '&')\n",
        "\n",
        "#mask1 = df_books_clean['title'].str.contains('&')\n",
        "#mask2 = df_books_clean['author'].str.contains('&', na=False) # #access all rows,, ignore NaN\n",
        "#df_books_clean[ mask2 ]"
      ]
    },
    {
      "cell_type": "code",
      "execution_count": 45,
      "metadata": {
        "id": "U1HgwnKuBste"
      },
      "outputs": [],
      "source": [
        "# 4.6. Filter duplicated titles from same author\n",
        "# !!! SINCE ISBN ARE ALL UNIQUE, THEY ARE DIFFERENT BOOKS, DESPITE BOOKS WITH EQUAL TITLE AND AUTHOR\n",
        "# !!! THUS, WILL NOT FILTER DUPLICATED\n",
        "\n",
        "#mask = ~df_books_clean.duplicated(subset=['title', 'author'])\n",
        "#filtered = df_books_clean [mask]\n",
        "\n",
        "#filtered[ filtered['author']=='Dan Brown' ]\n",
        "#filtered.loc[ df_books_clean['author'] == 'Dan Brown', ['title', 'author'] ].value_counts()"
      ]
    },
    {
      "cell_type": "code",
      "execution_count": 46,
      "metadata": {
        "colab": {
          "base_uri": "https://localhost:8080/"
        },
        "id": "39fHLX4I5wfB",
        "outputId": "875ef969-c6d9-40ce-9cfb-a11f669e6d83"
      },
      "outputs": [
        {
          "name": "stdout",
          "output_type": "stream",
          "text": [
            "270850 unique books\n",
            "242021 unique titles\n",
            "102000 unique authors\n",
            "TOTAL books in dataset: 270850\n"
          ]
        }
      ],
      "source": [
        "# After cleaning the data, how many unique books, titles and authors?\n",
        "\n",
        "print(\"{} unique books\".format(df_books_clean.isbn.value_counts().count())) # 249040 unique books\n",
        "print(\"{} unique titles\".format(df_books_clean.title.value_counts().count())) # 223899 unique titles\n",
        "print(\"{} unique authors\".format(df_books_clean.author.value_counts().count())) # 96292 unique authors\n",
        "print(\"TOTAL books in dataset: {}\".format(df_books_clean.shape[0]))"
      ]
    },
    {
      "cell_type": "markdown",
      "metadata": {
        "id": "AGoyMxjR2O5O"
      },
      "source": [
        "### Cleaning ```df_ratings_clean```"
      ]
    },
    {
      "cell_type": "code",
      "execution_count": 47,
      "metadata": {
        "colab": {
          "base_uri": "https://localhost:8080/"
        },
        "id": "_pYIrC9lGqhr",
        "outputId": "6eb8c131-317c-40d1-e105-546dc16c079f"
      },
      "outputs": [
        {
          "data": {
            "text/plain": [
              "(49781, 3)"
            ]
          },
          "execution_count": 47,
          "metadata": {},
          "output_type": "execute_result"
        }
      ],
      "source": [
        "# 4. Clean the data\n",
        "\n",
        "# TIP: If you graph the dataset (optional), you will notice that most books are not rated frequently. \n",
        "#To ensure statistical significance, remove from the dataset users with less than 200 ratings \n",
        "#and books with less than 100 ratings.\n",
        "\n",
        "# 4.1. Filter Users with < 200 ratings and Books with < 100 ratings\n",
        "\n",
        "# 4.1.1. Filter Users with < 200 ratings\n",
        "\n",
        "user_ratings_counts = df_ratings.groupby(by=['user'])['rating'].count().to_frame().sort_values(['rating'], ascending=False)\n",
        "mask_users_more = user_ratings_counts['rating'] >= 200\n",
        "user_ratings_counts_200 = user_ratings_counts[mask_users_more]\n",
        "users_to_keep = user_ratings_counts_200.index.to_list()\n",
        "mask = df_ratings['user'].isin(users_to_keep)\n",
        "#BEFORE: df_ratings.shape # (1_149_780, 3)\n",
        "df_ratings_clean = df_ratings[ mask ]\n",
        "#AFTER: result_df.shape # (527556, 3)\n",
        "\n",
        "# 4.1.2. Filter Books with < 100 ratings\n",
        "\n",
        "book_ratings_counts = df_ratings.groupby(by=['isbn'])['rating'].count().to_frame().sort_values(['rating'], ascending=False)\n",
        "mask_books_more = book_ratings_counts['rating'] >= 100\n",
        "book_ratings_counts_100 = book_ratings_counts[mask_books_more]\n",
        "books_to_keep = book_ratings_counts_100.index.to_list()\n",
        "mask = df_ratings_clean['isbn'].isin(books_to_keep)\n",
        "#BEFORE: df_ratings_clean.shape # (527556, 3)\n",
        "df_ratings_clean = df_ratings_clean[ mask ]\n",
        "#AFTER: (49781, 3)\n",
        "\n",
        "df_ratings_clean.shape"
      ]
    },
    {
      "cell_type": "code",
      "execution_count": 48,
      "metadata": {
        "colab": {
          "base_uri": "https://localhost:8080/"
        },
        "id": "S7kStw6GvcuK",
        "outputId": "a951a5d5-01f8-4709-9b67-3a5fdb34e301"
      },
      "outputs": [
        {
          "name": "stdout",
          "output_type": "stream",
          "text": [
            "Dataset only has ISBN values of 10 characters long\n"
          ]
        },
        {
          "data": {
            "text/plain": [
              "(49781, 3)"
            ]
          },
          "execution_count": 48,
          "metadata": {},
          "output_type": "execute_result"
        }
      ],
      "source": [
        "# 4.2. Filter invalid ISBN\n",
        "\n",
        "# dataset only has isbn values of 10 characters long\n",
        "isbn_values_length = df_ratings_clean['isbn'].str.len().unique()[0] # array([10])\n",
        "print(\"Dataset only has ISBN values of {length} characters long\".format(length=isbn_values_length))\n",
        "#isbn_values = df_ratings_clean['isbn']\n",
        "\n",
        "# if dataset has any letter in any isbn value, then removes isbn row\n",
        "# regex: \\D means non-digit; \\d{10} means 10 digits; [A-Za-z] means the alphabet\n",
        "# ~ (tilde) means to invert all boolean values in a Series\n",
        "#mask = ~(isbn_values.str.contains('\\\\D', regex=True))\n",
        "#isbn_values_clean = isbn_values[ mask ]\n",
        "\n",
        "#BEFORE: df_ratings_clean.shape # (49781, 3)\n",
        "mask_filter_invalid_isbn = df_ratings_clean.isbn.map(validate_ten_digit_isbn)\n",
        "df_ratings_clean = df_ratings_clean[ mask_filter_invalid_isbn ]\n",
        "#AFTER: (44326, 3)\n",
        "\n",
        "df_ratings_clean.shape"
      ]
    },
    {
      "cell_type": "code",
      "execution_count": 49,
      "metadata": {
        "colab": {
          "base_uri": "https://localhost:8080/"
        },
        "id": "3rbT9PswtBkL",
        "outputId": "7f9e9ba7-6b53-4e96-a036-08f9fd318ee2"
      },
      "outputs": [
        {
          "data": {
            "text/plain": [
              "0"
            ]
          },
          "execution_count": 49,
          "metadata": {},
          "output_type": "execute_result"
        }
      ],
      "source": [
        "# 4.3. Check for invalid USER\n",
        "\n",
        "df_ratings_clean.user.isna().sum()"
      ]
    },
    {
      "cell_type": "code",
      "execution_count": 50,
      "metadata": {
        "colab": {
          "base_uri": "https://localhost:8080/"
        },
        "id": "B5rQCzkUzbzo",
        "outputId": "1b8bde4c-60b5-4f3f-aa6f-3ba9d8e4bd44"
      },
      "outputs": [
        {
          "data": {
            "text/plain": [
              "0"
            ]
          },
          "execution_count": 50,
          "metadata": {},
          "output_type": "execute_result"
        }
      ],
      "source": [
        "# 4.4. Check for invalid RATING\n",
        "\n",
        "df_ratings_clean.rating.isna().sum()"
      ]
    },
    {
      "cell_type": "code",
      "execution_count": 51,
      "metadata": {
        "colab": {
          "base_uri": "https://localhost:8080/"
        },
        "id": "2TzfDHm9ESwE",
        "outputId": "fb5093b3-1055-43c6-d7f6-0c373ef38806"
      },
      "outputs": [
        {
          "name": "stdout",
          "output_type": "stream",
          "text": [
            "0 repeated ratings with the same user, book and rating\n",
            "0 repeated ratings with the same user and book\n"
          ]
        }
      ],
      "source": [
        "# 4.5. Check for duplicated ratings\n",
        "\n",
        "# repeated ratings with same user, book and rating\n",
        "mask = df_ratings_clean.duplicated(subset=['user', 'isbn', 'rating']) # 0\n",
        "count1 = df_ratings_clean[ mask ].value_counts().count()\n",
        "\n",
        "# repeated ratings with same user and book\n",
        "mask = df_ratings_clean.duplicated(subset=['user', 'isbn']) # 0\n",
        "count2 = df_ratings_clean[ mask ].value_counts().count()\n",
        "\n",
        "print(\"{} repeated ratings with the same user, book and rating\".format(count1))\n",
        "print(\"{} repeated ratings with the same user and book\".format(count2))"
      ]
    },
    {
      "cell_type": "code",
      "execution_count": 52,
      "metadata": {
        "colab": {
          "base_uri": "https://localhost:8080/"
        },
        "id": "Dw6b4ufL5oHd",
        "outputId": "37f6e003-bda0-4616-b233-10557a82e976"
      },
      "outputs": [
        {
          "name": "stdout",
          "output_type": "stream",
          "text": [
            "888 unique users\n",
            "731 unique books\n",
            "11 unique ratings\n"
          ]
        }
      ],
      "source": [
        "# After cleaning the data, how many unique users, books and ratings?\n",
        "\n",
        "print(\"{} unique users\".format(df_ratings_clean.user.value_counts().count())) # 888 unique users\n",
        "print(\"{} unique books\".format(df_ratings_clean.isbn.value_counts().count())) # 657 unique books\n",
        "print(\"{} unique ratings\".format(df_ratings_clean.rating.value_counts().count())) # 11 unique ratings (0-10)"
      ]
    },
    {
      "cell_type": "markdown",
      "metadata": {
        "id": "P4nPsMtf0b61"
      },
      "source": [
        "### Getting An Unique And Cleaned Data Set"
      ]
    },
    {
      "cell_type": "code",
      "execution_count": 53,
      "metadata": {
        "id": "UE2tZwQm0i1H"
      },
      "outputs": [],
      "source": [
        "df1_books = df_books_clean.copy()\n",
        "df2_ratings = df_ratings_clean.copy()\n",
        "\n",
        "# set 'isbn' as index in ratings\n",
        "df2_ratings = df2_ratings.set_index('isbn').sort_index(ascending=True)\n",
        "\n",
        "# set 'isbn' as index in books as well, and conform this index to the ratings index\n",
        "# ( let books index (bigger) adapt to/get absorbed by ratings index (shorter) )\n",
        "df1_books = df1_books.set_index('isbn').reindex(df2_ratings.index).sort_index(ascending=True)\n",
        "\n",
        "# add 'title' and 'author' columns\n",
        "df_clean = df2_ratings.copy()\n",
        "df_clean['title'] = df1_books['title']\n",
        "df_clean['author'] = df1_books['author']\n",
        "\n",
        "# reorder columns order\n",
        "#cols = df_ratings_clean.columns.tolist()\n",
        "#cols = ['user', 'rating', 'isbn']\n",
        "#df_ratings_clean[cols]"
      ]
    },
    {
      "cell_type": "code",
      "execution_count": 54,
      "metadata": {
        "colab": {
          "base_uri": "https://localhost:8080/"
        },
        "id": "QO9qw6547AqV",
        "outputId": "92962157-442f-480a-cd1a-9e6da9e88be9"
      },
      "outputs": [
        {
          "name": "stdout",
          "output_type": "stream",
          "text": [
            "(49781, 4)\n",
            "Missing values:\n",
            "user        0\n",
            "rating      0\n",
            "title     264\n",
            "author    264\n",
            "dtype: int64\n"
          ]
        }
      ],
      "source": [
        "# check for missing values (NaN)\n",
        "\n",
        "print(df_clean.shape) # (44326, 4)\n",
        "\n",
        "print('Missing values:')\n",
        "print(df_clean.isna().sum())\n",
        "\n",
        "#mask_missing_values = df_clean['author'].isna()\n",
        "#df_clean[ mask_missing_values ]"
      ]
    },
    {
      "cell_type": "code",
      "execution_count": 55,
      "metadata": {
        "colab": {
          "base_uri": "https://localhost:8080/"
        },
        "id": "H5gZVxMU7bzd",
        "outputId": "9bee5ebf-c9ab-4a94-b61e-9ca134a665e3"
      },
      "outputs": [
        {
          "name": "stdout",
          "output_type": "stream",
          "text": [
            "(49517, 4)\n",
            "Missing values:\n",
            "user      0\n",
            "rating    0\n",
            "title     0\n",
            "author    0\n",
            "dtype: int64\n"
          ]
        }
      ],
      "source": [
        "# drop missing values (NaN)\n",
        "\n",
        "df_clean = df_clean.dropna(axis='index', how='any')\n",
        "\n",
        "print(df_clean.shape) # (44062, 4)\n",
        "\n",
        "print('Missing values:')\n",
        "print(df_clean.isna().sum())"
      ]
    },
    {
      "cell_type": "code",
      "execution_count": 56,
      "metadata": {
        "id": "t4tBsKW0yEi6"
      },
      "outputs": [],
      "source": [
        "# get rid of duplicated book titles --------------------- ????????????????????\n",
        "\n",
        "#df_clean.drop_duplicates(subset=['title', 'author'])\n",
        "\n",
        "#mask = df_clean.duplicated(subset=['title', 'author']) # .count() = 44062\n",
        "#count1 = df_clean[ ~mask ] # .count()"
      ]
    },
    {
      "cell_type": "markdown",
      "metadata": {
        "id": "VK7IDm0Y2et7"
      },
      "source": [
        "### Aside Code"
      ]
    },
    {
      "cell_type": "code",
      "execution_count": 57,
      "metadata": {
        "id": "Ea--VCXJzGxT"
      },
      "outputs": [],
      "source": [
        "# Users and reviews\n",
        "\n",
        "#mask2 = df_ratings['rating'] > 0\n",
        "\n",
        "#users_with_more_reviews = df_ratings.loc[mask2, 'user'].value_counts() # the users who have given MORE reviews\n",
        "#user_with_more_reviews = df_ratings.loc[mask2, 'user'].value_counts().head(1).index[0] # the USER who has given MORE reviews\n",
        "#max_number_of_user_reviews = df_ratings.loc[mask2, 'user'].value_counts().max() # the MAX number of reviews given by users\n",
        "\n",
        "#users_with_less_reviews = df_ratings.loc[mask2, 'user'].value_counts().to_frame().sort_values(['user'], ascending=True) # the users who have given LESS reviews\n",
        "#user_with_less_reviews = df_ratings.loc[mask2, 'user'].value_counts().tail(1).index[0] # the USER who has given LESS reviews\n",
        "#min_number_of_user_reviews = df_ratings.loc[mask2, 'user'].value_counts().min() # the MIN number of reviews given by users"
      ]
    },
    {
      "cell_type": "code",
      "execution_count": 58,
      "metadata": {
        "id": "ApT9dz7jZK6J"
      },
      "outputs": [],
      "source": [
        "# Books and reviews\n",
        "\n",
        "#mask2 = df_ratings['rating'] > 0\n",
        "\n",
        "#books_with_more_reviews = df_ratings.loc[mask2, 'isbn'].value_counts() # the books which have received MORE reviews\n",
        "#book_with_more_reviews = df_ratings.loc[mask2, 'isbn'].value_counts().head(1).index[0] # the BOOK who has received MORE reviews\n",
        "#max_number_of_book_reviews = df_ratings.loc[mask2, 'isbn'].value_counts().max() # the MAX number of reviews a book has received\n",
        "\n",
        "#books_with_less_reviews = df_ratings.loc[mask2, 'isbn'].value_counts().to_frame().sort_values(['isbn'], ascending=True) # the books which have received LESS reviews\n",
        "#df_ratings.loc[mask2, 'isbn'].value_counts().tail(1).index[0] # the BOOK who has received LESS reviews\n",
        "#min_number_of_book_reviews = df_ratings.loc[mask2, 'isbn'].value_counts().min() # the MIN number of reviews a book has received\n",
        "\n",
        "# Books with their total sum of ratings\n",
        "#books_ratings_sum = df_ratings.loc[mask2].groupby(by=['isbn'], as_index=True)['rating'].sum().to_frame().sort_values(['rating'], ascending=False)\n",
        "# Books with their total count of ratings\n",
        "#books_ratings_count = df_ratings.loc[mask2].groupby(by=['isbn'], as_index=True)['rating'].count().to_frame().sort_values(['rating'], ascending=False)\n",
        "#books_with_more_reviews_count = df_ratings.loc[mask2, ['isbn']].value_counts().to_frame() # the books which have received MORE reviews\n",
        "\n",
        "# Books with their ratings average\n",
        "#books_ratings_average = np.round(books_ratings_sum / books_ratings_count, 0)\n",
        "\n",
        "# Books best rated (by rating and by number of ratings)\n",
        "#books_ratings_average['count'] = books_ratings_count\n",
        "#books_best_rated = books_ratings_average.sort_values(['rating', 'count'], ascending=False)\n",
        "#books_best_rated.head(3)"
      ]
    },
    {
      "cell_type": "code",
      "execution_count": 59,
      "metadata": {
        "id": "nzTYBo4zzUKb"
      },
      "outputs": [],
      "source": [
        "#df_ratings['user'].value_counts().to_frame() #.plot(kind='bar', figsize=(13,4), title='')"
      ]
    },
    {
      "cell_type": "markdown",
      "metadata": {
        "id": "x1QCg6AmbEpa"
      },
      "source": [
        "## 5. Use K-Nearest Neighbors (KNN) Algorithm"
      ]
    },
    {
      "cell_type": "markdown",
      "metadata": {
        "id": "kcqFWX8n-aem"
      },
      "source": [
        "### Auxiliar Functions"
      ]
    },
    {
      "cell_type": "code",
      "execution_count": 60,
      "metadata": {
        "id": "7o4DVgOeo8Xd"
      },
      "outputs": [],
      "source": [
        "def get_book(isbn):\n",
        "  mask = df_books_clean['isbn'] == isbn\n",
        "  book = df_books_clean[ mask ]\n",
        "  if book.shape[0] == 0: return False\n",
        "  return book\n",
        "#get_book('0061009059')"
      ]
    },
    {
      "cell_type": "code",
      "execution_count": 61,
      "metadata": {
        "id": "a29QzhE9_Agr"
      },
      "outputs": [],
      "source": [
        "def get_book_values(isbn):\n",
        "  book = get_book(isbn)\n",
        "  if book is False: return False\n",
        "  return book.values[0]\n",
        "#get_book_values('0061009059')"
      ]
    },
    {
      "cell_type": "code",
      "execution_count": 62,
      "metadata": {
        "id": "qU4IxzjYnwWk"
      },
      "outputs": [],
      "source": [
        "def get_book_ratings(isbn):\n",
        "  mask = df_ratings_clean['isbn'] == isbn\n",
        "  book_ratings = df_ratings_clean[ mask ]\n",
        "  if book_ratings.shape[0] == 0: return False\n",
        "  return book_ratings\n",
        "#get_book_ratings('0061009059')"
      ]
    },
    {
      "cell_type": "code",
      "execution_count": 63,
      "metadata": {
        "id": "bKjnnCsP8DCr"
      },
      "outputs": [],
      "source": [
        "def get_book_title(isbn):\n",
        "  book = get_book(isbn)\n",
        "  if book is False: return False\n",
        "  return book['title'].values[0]\n",
        "#get_book_title('0061009059')"
      ]
    },
    {
      "cell_type": "code",
      "execution_count": 64,
      "metadata": {
        "id": "jJ6DHAHuxJG1"
      },
      "outputs": [],
      "source": [
        "def get_book_by_title(title, dataframe):\n",
        "  mask = dataframe['title'] == title\n",
        "  books = dataframe[ mask ]\n",
        "  if books.shape[0] == 0: return False\n",
        "  return books\n",
        "#get_book_by_title('The Queen of the Damned (Vampire Chronicles (Paperback))', df_clean)"
      ]
    },
    {
      "cell_type": "code",
      "execution_count": 65,
      "metadata": {
        "id": "po0T9_iiRRCo"
      },
      "outputs": [],
      "source": [
        "def get_isbn_by_book_title(title, dataframe):\n",
        "  books = get_book_by_title(title, dataframe)\n",
        "  if books.shape[0] == 0: return False\n",
        "  return books.index.unique()[0]\n",
        "#get_isbn_by_book_title('The Queen of the Damned (Vampire Chronicles (Paperback))', df_clean)"
      ]
    },
    {
      "cell_type": "code",
      "execution_count": 66,
      "metadata": {
        "id": "RLtUI_X7pGet"
      },
      "outputs": [],
      "source": [
        "def get_user_ratings(user):\n",
        "  mask = df_ratings_clean['user'] == user\n",
        "  user_ratings = df_ratings_clean[ mask ]\n",
        "  if user_ratings.shape[0] == 0: return False\n",
        "  return user_ratings\n",
        "#get_user_ratings(11676)"
      ]
    },
    {
      "cell_type": "markdown",
      "metadata": {
        "id": "ApClbsk5-hp2"
      },
      "source": [
        "### Theory on K-Nearest Neighbors"
      ]
    },
    {
      "cell_type": "code",
      "execution_count": 67,
      "metadata": {
        "id": "dX-37SL4-qt-"
      },
      "outputs": [],
      "source": [
        "#from scipy.sparse import csr_matrix\n",
        "#from sklearn.neighbors import NearestNeighbors\n",
        "\n",
        "# class sklearn.neighbors.NearestNeighbors(*, n_neighbors=5, radius=1.0, algorithm='auto', \n",
        "#leaf_size=30, metric='minkowski', p=2, metric_params=None, n_jobs=None)\n",
        "# - Unsupervised learner for implementing neighbor searches.\n",
        "\n",
        "# .kneighbors([X, n_neighbors, return_distance]) - Find the K-neighbors of a point.\n",
        "\n",
        "# >>> X = np.array([[-1, -1], [-2, -1], [-3, -2], [1, 1], [2, 1], [3, 2]])\n",
        "# >>> nbrs = NearestNeighbors(n_neighbors=2, algorithm='ball_tree').fit(X)\n",
        "# >>> distances, indices = nbrs.kneighbors(X)\n",
        "\n",
        "\n",
        "# NearestNeighbors implements unsupervised nearest neighbors learning. It acts as a uniform \n",
        "#interface to three different nearest neighbors algorithms: BallTree, KDTree, and a \n",
        "#brute-force algorithm based on routines in sklearn.metrics.pairwise. The choice of neighbors \n",
        "#search algorithm is controlled through the keyword 'algorithm', which must be one of ['auto', \n",
        "#'ball_tree', 'kd_tree', 'brute']. When the default value 'auto' is passed, the algorithm \n",
        "#attempts to determine the best approach from the training data.\n",
        "\n",
        "# \"The classes in sklearn.neighbors can handle either NumPy arrays or scipy.sparse matrices \n",
        "#as input. For dense matrices, a large number of possible distance metrics are supported. \n",
        "#For sparse matrices, arbitrary Minkowski metrics are supported for searches.\n",
        "\n",
        "# Supervised and unsupervised learning have one key difference. Supervised learning uses \n",
        "#labeled datasets, whereas unsupervised learning uses unlabeled datasets. By “labeled” we \n",
        "#mean that the data is already tagged with the right answer."
      ]
    },
    {
      "cell_type": "markdown",
      "metadata": {
        "id": "a6XtAJr4-zcn"
      },
      "source": [
        "### K-Nearest Neighbors Model Implementation"
      ]
    },
    {
      "cell_type": "markdown",
      "metadata": {
        "id": "Hx3hjI7VvH-a"
      },
      "source": [
        "#### K-NN Code Example 1"
      ]
    },
    {
      "cell_type": "code",
      "execution_count": null,
      "metadata": {
        "colab": {
          "base_uri": "https://localhost:8080/"
        },
        "id": "tf3ETjF_Xpdh",
        "outputId": "cdbbd75f-783d-4778-a1cc-8c5bf5eac4d0"
      },
      "outputs": [
        {
          "name": "stdout",
          "output_type": "stream",
          "text": [
            "Top 3 Recommendations for 'Book A':\n",
            "- ['Book D', 3.1622776601683795]\n",
            "- ['Book C', 4.123105625617661]\n"
          ]
        }
      ],
      "source": [
        "#from sklearn.neighbors import NearestNeighbors\n",
        "\n",
        "# Load the book data\n",
        "titles = np.array(['Book A', 'Book B', 'Book C', 'Book D', 'Book E'])\n",
        "features = [[1, 3, 5], [2, 4, 1], [3, 1, 2], [4, 2, 5], [5, 4, 3]]\n",
        "\n",
        "# Define K value\n",
        "K = 3\n",
        "\n",
        "# Create the NearestNeighbors model\n",
        "nn = NearestNeighbors(n_neighbors=K)\n",
        "\n",
        "# Fit the model to the data\n",
        "nn.fit(features)\n",
        "\n",
        "# Choose a book to get recommendations for\n",
        "book_index = 0\n",
        "\n",
        "# Get the indices of the 3 nearest neighbors\n",
        "distances, indices = nn.kneighbors([features[book_index]], return_distance=True)\n",
        "\n",
        "# Print the recommendations\n",
        "print(\"Top {K} Recommendations for '{book}':\".format(K=K, book=titles[book_index]))\n",
        "for i in range(len(distances.flat)):\n",
        "  index = indices.flat[i]\n",
        "  distance = distances.flat[i]\n",
        "  title = titles[index]\n",
        "  same_book_as_queried = titles[book_index] == titles[index]\n",
        "  if not same_book_as_queried:\n",
        "    print(\"- ['{title}', {distance}]\".format(title=title, distance=distance))"
      ]
    },
    {
      "cell_type": "markdown",
      "metadata": {
        "id": "2bBhz9GzvUZB"
      },
      "source": [
        "#### K-NN Code Example 2"
      ]
    },
    {
      "cell_type": "code",
      "execution_count": null,
      "metadata": {
        "colab": {
          "base_uri": "https://localhost:8080/"
        },
        "id": "UETzQvcH8aSu",
        "outputId": "8fe44ccf-7c77-490d-dfbf-787adfec66c2"
      },
      "outputs": [
        {
          "data": {
            "text/plain": [
              "array(2)"
            ]
          },
          "execution_count": 84,
          "metadata": {},
          "output_type": "execute_result"
        }
      ],
      "source": [
        "#import numpy as np\n",
        "#from sklearn.neighbors import NearestNeighbors\n",
        "samples = [[0, 0, 2], [1, 0, 0], [0, 0, 1]]\n",
        "neigh = NearestNeighbors(n_neighbors=2, radius=0.4)\n",
        "neigh.fit(samples)\n",
        "#NearestNeighbors(...)\n",
        "neigh.kneighbors([[0, 0, 1.3]], 2, return_distance=False)\n",
        "#array([[2, 0]]...)\n",
        "nbrs = neigh.radius_neighbors(\n",
        "    [[0, 0, 1.3]], 0.4, return_distance=False\n",
        " )\n",
        "np.asarray(nbrs[0][0])\n",
        "#array(2)"
      ]
    },
    {
      "cell_type": "markdown",
      "metadata": {
        "id": "tJw4RuEN2eKb"
      },
      "source": [
        "#### Quick Plot Peek"
      ]
    },
    {
      "cell_type": "code",
      "execution_count": 68,
      "metadata": {
        "colab": {
          "base_uri": "https://localhost:8080/",
          "height": 0
        },
        "id": "dXF057sL2lSj",
        "outputId": "507aad36-4d22-4eaa-d604-c17533f2b1b6"
      },
      "outputs": [
        {
          "name": "stdout",
          "output_type": "stream",
          "text": [
            "Top 10 Rating by user\n",
            "0.0     36969\n",
            "8.0      3110\n",
            "10.0     2742\n",
            "9.0      2558\n",
            "7.0      1933\n",
            "5.0      1026\n",
            "6.0       810\n",
            "4.0       169\n",
            "3.0       106\n",
            "2.0        48\n",
            "Name: rating, dtype: int64\n"
          ]
        },
        {
          "data": {
            "image/png": "[encoded data removed]",
            "text/plain": [
              "<Figure size 576x432 with 1 Axes>"
            ]
          },
          "metadata": {
            "needs_background": "light"
          },
          "output_type": "display_data"
        }
      ],
      "source": [
        "print(\"Top 10 Rating by user\")\n",
        "print(df_clean[\"rating\"].value_counts().head(10))\n",
        "\n",
        "#Total rating distribution\n",
        "plt.figure(figsize=(8,6))\n",
        "g = plt.hist(df_clean[\"rating\"], bins=20)"
      ]
    },
    {
      "cell_type": "markdown",
      "metadata": {
        "id": "1CJKF5jT115s"
      },
      "source": [
        "#### 'Pivot' DataFrame And Convert To Scipy Sparse Matrix"
      ]
    },
    {
      "cell_type": "code",
      "execution_count": 91,
      "metadata": {
        "colab": {
          "base_uri": "https://localhost:8080/",
          "height": 519
        },
        "id": "QZxm_6E3v-mc",
        "outputId": "d219e3ee-dd24-4a79-cc3b-3e0a1cedf4db"
      },
      "outputs": [
        {
          "data": {
            "text/html": [
              "\n",
              "  <div id=\"df-177468d5-824b-4da8-8726-0331b8e4ed6f\">\n",
              "    <div class=\"colab-df-container\">\n",
              "      <div>\n",
              "<style scoped>\n",
              "    .dataframe tbody tr th:only-of-type {\n",
              "        vertical-align: middle;\n",
              "    }\n",
              "\n",
              "    .dataframe tbody tr th {\n",
              "        vertical-align: top;\n",
              "    }\n",
              "\n",
              "    .dataframe thead th {\n",
              "        text-align: right;\n",
              "    }\n",
              "</style>\n",
              "<table border=\"1\" class=\"dataframe\">\n",
              "  <thead>\n",
              "    <tr style=\"text-align: right;\">\n",
              "      <th>user</th>\n",
              "      <th>254</th>\n",
              "      <th>2276</th>\n",
              "      <th>2766</th>\n",
              "      <th>2977</th>\n",
              "      <th>3363</th>\n",
              "      <th>4017</th>\n",
              "      <th>4385</th>\n",
              "      <th>6242</th>\n",
              "      <th>6251</th>\n",
              "      <th>6323</th>\n",
              "      <th>...</th>\n",
              "      <th>274004</th>\n",
              "      <th>274061</th>\n",
              "      <th>274301</th>\n",
              "      <th>274308</th>\n",
              "      <th>274808</th>\n",
              "      <th>275970</th>\n",
              "      <th>277427</th>\n",
              "      <th>277478</th>\n",
              "      <th>277639</th>\n",
              "      <th>278418</th>\n",
              "    </tr>\n",
              "    <tr>\n",
              "      <th>isbn</th>\n",
              "      <th></th>\n",
              "      <th></th>\n",
              "      <th></th>\n",
              "      <th></th>\n",
              "      <th></th>\n",
              "      <th></th>\n",
              "      <th></th>\n",
              "      <th></th>\n",
              "      <th></th>\n",
              "      <th></th>\n",
              "      <th></th>\n",
              "      <th></th>\n",
              "      <th></th>\n",
              "      <th></th>\n",
              "      <th></th>\n",
              "      <th></th>\n",
              "      <th></th>\n",
              "      <th></th>\n",
              "      <th></th>\n",
              "      <th></th>\n",
              "      <th></th>\n",
              "    </tr>\n",
              "  </thead>\n",
              "  <tbody>\n",
              "    <tr>\n",
              "      <th>002542730X</th>\n",
              "      <td>0.0</td>\n",
              "      <td>0.0</td>\n",
              "      <td>0.0</td>\n",
              "      <td>0.0</td>\n",
              "      <td>0.0</td>\n",
              "      <td>0.0</td>\n",
              "      <td>0.0</td>\n",
              "      <td>0.0</td>\n",
              "      <td>0.0</td>\n",
              "      <td>0.0</td>\n",
              "      <td>...</td>\n",
              "      <td>0.0</td>\n",
              "      <td>0.0</td>\n",
              "      <td>0.0</td>\n",
              "      <td>0.0</td>\n",
              "      <td>0.0</td>\n",
              "      <td>0.0</td>\n",
              "      <td>10.0</td>\n",
              "      <td>0.0</td>\n",
              "      <td>0.0</td>\n",
              "      <td>0.0</td>\n",
              "    </tr>\n",
              "    <tr>\n",
              "      <th>0060008032</th>\n",
              "      <td>0.0</td>\n",
              "      <td>0.0</td>\n",
              "      <td>0.0</td>\n",
              "      <td>0.0</td>\n",
              "      <td>0.0</td>\n",
              "      <td>0.0</td>\n",
              "      <td>0.0</td>\n",
              "      <td>0.0</td>\n",
              "      <td>0.0</td>\n",
              "      <td>0.0</td>\n",
              "      <td>...</td>\n",
              "      <td>0.0</td>\n",
              "      <td>0.0</td>\n",
              "      <td>0.0</td>\n",
              "      <td>0.0</td>\n",
              "      <td>0.0</td>\n",
              "      <td>0.0</td>\n",
              "      <td>0.0</td>\n",
              "      <td>0.0</td>\n",
              "      <td>0.0</td>\n",
              "      <td>0.0</td>\n",
              "    </tr>\n",
              "    <tr>\n",
              "      <th>0060096195</th>\n",
              "      <td>0.0</td>\n",
              "      <td>0.0</td>\n",
              "      <td>0.0</td>\n",
              "      <td>0.0</td>\n",
              "      <td>0.0</td>\n",
              "      <td>0.0</td>\n",
              "      <td>0.0</td>\n",
              "      <td>0.0</td>\n",
              "      <td>0.0</td>\n",
              "      <td>0.0</td>\n",
              "      <td>...</td>\n",
              "      <td>0.0</td>\n",
              "      <td>0.0</td>\n",
              "      <td>0.0</td>\n",
              "      <td>0.0</td>\n",
              "      <td>0.0</td>\n",
              "      <td>0.0</td>\n",
              "      <td>0.0</td>\n",
              "      <td>0.0</td>\n",
              "      <td>0.0</td>\n",
              "      <td>0.0</td>\n",
              "    </tr>\n",
              "    <tr>\n",
              "      <th>006016848X</th>\n",
              "      <td>0.0</td>\n",
              "      <td>0.0</td>\n",
              "      <td>0.0</td>\n",
              "      <td>0.0</td>\n",
              "      <td>0.0</td>\n",
              "      <td>0.0</td>\n",
              "      <td>0.0</td>\n",
              "      <td>0.0</td>\n",
              "      <td>0.0</td>\n",
              "      <td>0.0</td>\n",
              "      <td>...</td>\n",
              "      <td>0.0</td>\n",
              "      <td>0.0</td>\n",
              "      <td>0.0</td>\n",
              "      <td>0.0</td>\n",
              "      <td>0.0</td>\n",
              "      <td>0.0</td>\n",
              "      <td>0.0</td>\n",
              "      <td>0.0</td>\n",
              "      <td>0.0</td>\n",
              "      <td>0.0</td>\n",
              "    </tr>\n",
              "    <tr>\n",
              "      <th>0060173289</th>\n",
              "      <td>0.0</td>\n",
              "      <td>0.0</td>\n",
              "      <td>0.0</td>\n",
              "      <td>0.0</td>\n",
              "      <td>0.0</td>\n",
              "      <td>0.0</td>\n",
              "      <td>0.0</td>\n",
              "      <td>0.0</td>\n",
              "      <td>0.0</td>\n",
              "      <td>0.0</td>\n",
              "      <td>...</td>\n",
              "      <td>0.0</td>\n",
              "      <td>0.0</td>\n",
              "      <td>0.0</td>\n",
              "      <td>0.0</td>\n",
              "      <td>0.0</td>\n",
              "      <td>0.0</td>\n",
              "      <td>0.0</td>\n",
              "      <td>0.0</td>\n",
              "      <td>0.0</td>\n",
              "      <td>0.0</td>\n",
              "    </tr>\n",
              "    <tr>\n",
              "      <th>...</th>\n",
              "      <td>...</td>\n",
              "      <td>...</td>\n",
              "      <td>...</td>\n",
              "      <td>...</td>\n",
              "      <td>...</td>\n",
              "      <td>...</td>\n",
              "      <td>...</td>\n",
              "      <td>...</td>\n",
              "      <td>...</td>\n",
              "      <td>...</td>\n",
              "      <td>...</td>\n",
              "      <td>...</td>\n",
              "      <td>...</td>\n",
              "      <td>...</td>\n",
              "      <td>...</td>\n",
              "      <td>...</td>\n",
              "      <td>...</td>\n",
              "      <td>...</td>\n",
              "      <td>...</td>\n",
              "      <td>...</td>\n",
              "      <td>...</td>\n",
              "    </tr>\n",
              "    <tr>\n",
              "      <th>1573227331</th>\n",
              "      <td>0.0</td>\n",
              "      <td>0.0</td>\n",
              "      <td>0.0</td>\n",
              "      <td>0.0</td>\n",
              "      <td>0.0</td>\n",
              "      <td>0.0</td>\n",
              "      <td>0.0</td>\n",
              "      <td>6.0</td>\n",
              "      <td>0.0</td>\n",
              "      <td>0.0</td>\n",
              "      <td>...</td>\n",
              "      <td>0.0</td>\n",
              "      <td>0.0</td>\n",
              "      <td>0.0</td>\n",
              "      <td>0.0</td>\n",
              "      <td>0.0</td>\n",
              "      <td>0.0</td>\n",
              "      <td>0.0</td>\n",
              "      <td>0.0</td>\n",
              "      <td>0.0</td>\n",
              "      <td>0.0</td>\n",
              "    </tr>\n",
              "    <tr>\n",
              "      <th>1573229326</th>\n",
              "      <td>0.0</td>\n",
              "      <td>0.0</td>\n",
              "      <td>0.0</td>\n",
              "      <td>0.0</td>\n",
              "      <td>0.0</td>\n",
              "      <td>0.0</td>\n",
              "      <td>0.0</td>\n",
              "      <td>6.0</td>\n",
              "      <td>0.0</td>\n",
              "      <td>0.0</td>\n",
              "      <td>...</td>\n",
              "      <td>0.0</td>\n",
              "      <td>0.0</td>\n",
              "      <td>0.0</td>\n",
              "      <td>0.0</td>\n",
              "      <td>0.0</td>\n",
              "      <td>0.0</td>\n",
              "      <td>0.0</td>\n",
              "      <td>0.0</td>\n",
              "      <td>0.0</td>\n",
              "      <td>0.0</td>\n",
              "    </tr>\n",
              "    <tr>\n",
              "      <th>1573229571</th>\n",
              "      <td>0.0</td>\n",
              "      <td>0.0</td>\n",
              "      <td>0.0</td>\n",
              "      <td>0.0</td>\n",
              "      <td>0.0</td>\n",
              "      <td>0.0</td>\n",
              "      <td>0.0</td>\n",
              "      <td>0.0</td>\n",
              "      <td>0.0</td>\n",
              "      <td>0.0</td>\n",
              "      <td>...</td>\n",
              "      <td>0.0</td>\n",
              "      <td>0.0</td>\n",
              "      <td>0.0</td>\n",
              "      <td>0.0</td>\n",
              "      <td>0.0</td>\n",
              "      <td>0.0</td>\n",
              "      <td>0.0</td>\n",
              "      <td>0.0</td>\n",
              "      <td>0.0</td>\n",
              "      <td>0.0</td>\n",
              "    </tr>\n",
              "    <tr>\n",
              "      <th>1592400876</th>\n",
              "      <td>0.0</td>\n",
              "      <td>0.0</td>\n",
              "      <td>0.0</td>\n",
              "      <td>0.0</td>\n",
              "      <td>0.0</td>\n",
              "      <td>0.0</td>\n",
              "      <td>0.0</td>\n",
              "      <td>0.0</td>\n",
              "      <td>0.0</td>\n",
              "      <td>0.0</td>\n",
              "      <td>...</td>\n",
              "      <td>0.0</td>\n",
              "      <td>0.0</td>\n",
              "      <td>0.0</td>\n",
              "      <td>0.0</td>\n",
              "      <td>0.0</td>\n",
              "      <td>0.0</td>\n",
              "      <td>0.0</td>\n",
              "      <td>0.0</td>\n",
              "      <td>0.0</td>\n",
              "      <td>0.0</td>\n",
              "    </tr>\n",
              "    <tr>\n",
              "      <th>1878424319</th>\n",
              "      <td>0.0</td>\n",
              "      <td>0.0</td>\n",
              "      <td>0.0</td>\n",
              "      <td>0.0</td>\n",
              "      <td>0.0</td>\n",
              "      <td>0.0</td>\n",
              "      <td>0.0</td>\n",
              "      <td>0.0</td>\n",
              "      <td>0.0</td>\n",
              "      <td>0.0</td>\n",
              "      <td>...</td>\n",
              "      <td>0.0</td>\n",
              "      <td>0.0</td>\n",
              "      <td>0.0</td>\n",
              "      <td>0.0</td>\n",
              "      <td>0.0</td>\n",
              "      <td>0.0</td>\n",
              "      <td>0.0</td>\n",
              "      <td>0.0</td>\n",
              "      <td>0.0</td>\n",
              "      <td>0.0</td>\n",
              "    </tr>\n",
              "  </tbody>\n",
              "</table>\n",
              "<p>727 rows × 888 columns</p>\n",
              "</div>\n",
              "      <button class=\"colab-df-convert\" onclick=\"convertToInteractive('df-177468d5-824b-4da8-8726-0331b8e4ed6f')\"\n",
              "              title=\"Convert this dataframe to an interactive table.\"\n",
              "              style=\"display:none;\">\n",
              "        \n",
              "  <svg xmlns=\"http://www.w3.org/2000/svg\" height=\"24px\"viewBox=\"0 0 24 24\"\n",
              "       width=\"24px\">\n",
              "    <path d=\"M0 0h24v24H0V0z\" fill=\"none\"/>\n",
              "    <path d=\"M18.56 5.44l.94 2.06.94-2.06 2.06-.94-2.06-.94-.94-2.06-.94 2.06-2.06.94zm-11 1L8.5 8.5l.94-2.06 2.06-.94-2.06-.94L8.5 2.5l-.94 2.06-2.06.94zm10 10l.94 2.06.94-2.06 2.06-.94-2.06-.94-.94-2.06-.94 2.06-2.06.94z\"/><path d=\"M17.41 7.96l-1.37-1.37c-.4-.4-.92-.59-1.43-.59-.52 0-1.04.2-1.43.59L10.3 9.45l-7.72 7.72c-.78.78-.78 2.05 0 2.83L4 21.41c.39.39.9.59 1.41.59.51 0 1.02-.2 1.41-.59l7.78-7.78 2.81-2.81c.8-.78.8-2.07 0-2.86zM5.41 20L4 18.59l7.72-7.72 1.47 1.35L5.41 20z\"/>\n",
              "  </svg>\n",
              "      </button>\n",
              "      \n",
              "  <style>\n",
              "    .colab-df-container {\n",
              "      display:flex;\n",
              "      flex-wrap:wrap;\n",
              "      gap: 12px;\n",
              "    }\n",
              "\n",
              "    .colab-df-convert {\n",
              "      background-color: #E8F0FE;\n",
              "      border: none;\n",
              "      border-radius: 50%;\n",
              "      cursor: pointer;\n",
              "      display: none;\n",
              "      fill: #1967D2;\n",
              "      height: 32px;\n",
              "      padding: 0 0 0 0;\n",
              "      width: 32px;\n",
              "    }\n",
              "\n",
              "    .colab-df-convert:hover {\n",
              "      background-color: #E2EBFA;\n",
              "      box-shadow: 0px 1px 2px rgba(60, 64, 67, 0.3), 0px 1px 3px 1px rgba(60, 64, 67, 0.15);\n",
              "      fill: #174EA6;\n",
              "    }\n",
              "\n",
              "    [theme=dark] .colab-df-convert {\n",
              "      background-color: #3B4455;\n",
              "      fill: #D2E3FC;\n",
              "    }\n",
              "\n",
              "    [theme=dark] .colab-df-convert:hover {\n",
              "      background-color: #434B5C;\n",
              "      box-shadow: 0px 1px 3px 1px rgba(0, 0, 0, 0.15);\n",
              "      filter: drop-shadow(0px 1px 2px rgba(0, 0, 0, 0.3));\n",
              "      fill: #FFFFFF;\n",
              "    }\n",
              "  </style>\n",
              "\n",
              "      <script>\n",
              "        const buttonEl =\n",
              "          document.querySelector('#df-177468d5-824b-4da8-8726-0331b8e4ed6f button.colab-df-convert');\n",
              "        buttonEl.style.display =\n",
              "          google.colab.kernel.accessAllowed ? 'block' : 'none';\n",
              "\n",
              "        async function convertToInteractive(key) {\n",
              "          const element = document.querySelector('#df-177468d5-824b-4da8-8726-0331b8e4ed6f');\n",
              "          const dataTable =\n",
              "            await google.colab.kernel.invokeFunction('convertToInteractive',\n",
              "                                                     [key], {});\n",
              "          if (!dataTable) return;\n",
              "\n",
              "          const docLinkHtml = 'Like what you see? Visit the ' +\n",
              "            '<a target=\"_blank\" href=https://colab.research.google.com/notebooks/data_table.ipynb>data table notebook</a>'\n",
              "            + ' to learn more about interactive tables.';\n",
              "          element.innerHTML = '';\n",
              "          dataTable['output_type'] = 'display_data';\n",
              "          await google.colab.output.renderOutput(dataTable, element);\n",
              "          const docLink = document.createElement('div');\n",
              "          docLink.innerHTML = docLinkHtml;\n",
              "          element.appendChild(docLink);\n",
              "        }\n",
              "      </script>\n",
              "    </div>\n",
              "  </div>\n",
              "  "
            ],
            "text/plain": [
              "user        254     2276    2766    2977    3363    4017    4385    6242    \\\n",
              "isbn                                                                         \n",
              "002542730X     0.0     0.0     0.0     0.0     0.0     0.0     0.0     0.0   \n",
              "0060008032     0.0     0.0     0.0     0.0     0.0     0.0     0.0     0.0   \n",
              "0060096195     0.0     0.0     0.0     0.0     0.0     0.0     0.0     0.0   \n",
              "006016848X     0.0     0.0     0.0     0.0     0.0     0.0     0.0     0.0   \n",
              "0060173289     0.0     0.0     0.0     0.0     0.0     0.0     0.0     0.0   \n",
              "...            ...     ...     ...     ...     ...     ...     ...     ...   \n",
              "1573227331     0.0     0.0     0.0     0.0     0.0     0.0     0.0     6.0   \n",
              "1573229326     0.0     0.0     0.0     0.0     0.0     0.0     0.0     6.0   \n",
              "1573229571     0.0     0.0     0.0     0.0     0.0     0.0     0.0     0.0   \n",
              "1592400876     0.0     0.0     0.0     0.0     0.0     0.0     0.0     0.0   \n",
              "1878424319     0.0     0.0     0.0     0.0     0.0     0.0     0.0     0.0   \n",
              "\n",
              "user        6251    6323    ...  274004  274061  274301  274308  274808  \\\n",
              "isbn                        ...                                           \n",
              "002542730X     0.0     0.0  ...     0.0     0.0     0.0     0.0     0.0   \n",
              "0060008032     0.0     0.0  ...     0.0     0.0     0.0     0.0     0.0   \n",
              "0060096195     0.0     0.0  ...     0.0     0.0     0.0     0.0     0.0   \n",
              "006016848X     0.0     0.0  ...     0.0     0.0     0.0     0.0     0.0   \n",
              "0060173289     0.0     0.0  ...     0.0     0.0     0.0     0.0     0.0   \n",
              "...            ...     ...  ...     ...     ...     ...     ...     ...   \n",
              "1573227331     0.0     0.0  ...     0.0     0.0     0.0     0.0     0.0   \n",
              "1573229326     0.0     0.0  ...     0.0     0.0     0.0     0.0     0.0   \n",
              "1573229571     0.0     0.0  ...     0.0     0.0     0.0     0.0     0.0   \n",
              "1592400876     0.0     0.0  ...     0.0     0.0     0.0     0.0     0.0   \n",
              "1878424319     0.0     0.0  ...     0.0     0.0     0.0     0.0     0.0   \n",
              "\n",
              "user        275970  277427  277478  277639  278418  \n",
              "isbn                                                \n",
              "002542730X     0.0    10.0     0.0     0.0     0.0  \n",
              "0060008032     0.0     0.0     0.0     0.0     0.0  \n",
              "0060096195     0.0     0.0     0.0     0.0     0.0  \n",
              "006016848X     0.0     0.0     0.0     0.0     0.0  \n",
              "0060173289     0.0     0.0     0.0     0.0     0.0  \n",
              "...            ...     ...     ...     ...     ...  \n",
              "1573227331     0.0     0.0     0.0     0.0     0.0  \n",
              "1573229326     0.0     0.0     0.0     0.0     0.0  \n",
              "1573229571     0.0     0.0     0.0     0.0     0.0  \n",
              "1592400876     0.0     0.0     0.0     0.0     0.0  \n",
              "1878424319     0.0     0.0     0.0     0.0     0.0  \n",
              "\n",
              "[727 rows x 888 columns]"
            ]
          },
          "execution_count": 91,
          "metadata": {},
          "output_type": "execute_result"
        }
      ],
      "source": [
        "# create dataframe of book features:\n",
        "# - reshape dataframe (produce a 'pivot' table) to prepare our dataset\n",
        "#and features, organized by given index (book isbn), column (user id) \n",
        "#and values (rating); and\n",
        "# - fill any NA/NaN fields by defaulting to zero (0)\n",
        "features = df_clean.reset_index().pivot(\n",
        "    index='isbn',\n",
        "    columns='user',\n",
        "    values='rating').fillna(0)\n",
        "\n",
        "INDEX_isbn = features.index.to_numpy()\n",
        "#isbn = df_clean.index.unique()\n",
        "\n",
        "COLUMNS_users = features.columns.to_numpy()\n",
        "#users = df_clean['user'].sort_values(ascending=True).unique()\n",
        "\n",
        "features\n",
        "\n",
        "#features.columns # USER\n",
        "#features.index # ISBN\n",
        "#features.values # RATING\n",
        "\n",
        "# EXAMPLE:\n",
        "#features[COLUMN][INDEX] = VALUE\n",
        "#features[USER][ISBN] = RATING\n",
        "#features[254]['0142001740'] # = 9.0"
      ]
    },
    {
      "cell_type": "code",
      "execution_count": 70,
      "metadata": {
        "id": "WWaraTy63fCe"
      },
      "outputs": [],
      "source": [
        "# ABOUT CSR MATRIX\n",
        "\n",
        "#csr_matrix((data, indices, indptr), [shape=(M, N)])\n",
        "\n",
        "#is the standard CSR representation where \n",
        "#the column indices for row i are stored in indices[indptr[i]:indptr[i+1]] \n",
        "#and their corresponding values are stored in data[indptr[i]:indptr[i+1]].\n",
        "\n",
        "#If the shape parameter is not supplied, the matrix dimensions are inferred from the index arrays."
      ]
    },
    {
      "cell_type": "code",
      "execution_count": 92,
      "metadata": {
        "colab": {
          "base_uri": "https://localhost:8080/"
        },
        "id": "T4w8vUoSxbJ5",
        "outputId": "086c8380-6eb4-4d55-b70f-c596aa49576c"
      },
      "outputs": [
        {
          "data": {
            "text/plain": [
              "<727x888 sparse matrix of type '<class 'numpy.float32'>'\n",
              "\twith 12548 stored elements in Compressed Sparse Row format>"
            ]
          },
          "execution_count": 92,
          "metadata": {},
          "output_type": "execute_result"
        }
      ],
      "source": [
        "# convert dataframe of book features into scipy csr matrix\n",
        "#(compressed sparse row matrix) \n",
        "matrix_book_features = csr_matrix(features.values)\n",
        "\n",
        "indptr = matrix_book_features.indptr # 654 # index pointers, pointing to column indices and values for a specific row\n",
        "indices = matrix_book_features.indices # 11200 # column indices for a specific row (if row=5, then indices[ indptr[5]:indptr[5+1] ])\n",
        "data = matrix_book_features.data # 11200 # values for a specific row (if row=5, then data[ indptr[5]:indptr[5+1] ])\n",
        "\n",
        "# ----- CSR MATRIX THEORY EXAMPLE -----\n",
        "# for row=5:\n",
        "# - the column indices are stored in indices[indptr[5]:indptr[5+1]] \n",
        "# - and their corresponding values are stored in data[indptr[5]:indptr[5+1]]\n",
        "#index_pointer_for_row_5 = indptr[5] # 52\n",
        "#index_pointer_for_row_5_up_to_6 = indptr[5+1] # 63\n",
        "#column_indices_for_row_5 = indices[indptr[5]:indptr[5+1]] # array([ 25, 132, 181, 251, 297, 317, 377, 538, 615, 708, 738], dtype=int32)\n",
        "#corresponding_values_for_row_5 = data[indptr[5]:indptr[5+1]] # array([10., 10., 10.,  6., 10.,  7.,  6., 10., 10.,  6., 10.], dtype=float32)\n",
        "\n",
        "# ----- GET VALUE FROM CSR MATRIX -----\n",
        "#ROW = (provided by programmer)\n",
        "#INDPTR_ROW = indptr[ROW]\n",
        "#INDPTR_ROW_PLUS_ONE = indptr[ROW+1]\n",
        "#COLUMNS = (get from indices[INDPTR_ROW:INDPTR_ROW_PLUS_ONE])\n",
        "#matrix_book_features.toarray()[ROW][COLUMNS] = VALUE\n",
        "#matrix_book_features.toarray()[5][25] # Rating: 10.0\n",
        "\n",
        "# ----- GET VALUE FROM FEATURES 'PIVOT' TABLE -----\n",
        "#features[ COLUMNS_users[ indices[indptr[ROW]:indptr[ROW+1]][0] ] ][ INDEX_isbn[ROW] ]\n",
        "#features[ COLUMNS_users[25] ][ INDEX_isbn[5] ]\n",
        "#features[ User ][ Book ] = Rating\n",
        "#features[ 11676 ][ '0060391626' ] # Rating: 10.0\n",
        "\n",
        "matrix_book_features"
      ]
    },
    {
      "cell_type": "code",
      "execution_count": 93,
      "metadata": {
        "colab": {
          "base_uri": "https://localhost:8080/",
          "height": 237
        },
        "id": "XWQEjNVv1BtQ",
        "outputId": "d9972a17-2f74-44d1-af4a-b5ebedacd117"
      },
      "outputs": [
        {
          "data": {
            "text/html": [
              "\n",
              "  <div id=\"df-85de8f73-52ef-4f7c-b867-233ea4312a7b\">\n",
              "    <div class=\"colab-df-container\">\n",
              "      <div>\n",
              "<style scoped>\n",
              "    .dataframe tbody tr th:only-of-type {\n",
              "        vertical-align: middle;\n",
              "    }\n",
              "\n",
              "    .dataframe tbody tr th {\n",
              "        vertical-align: top;\n",
              "    }\n",
              "\n",
              "    .dataframe thead th {\n",
              "        text-align: right;\n",
              "    }\n",
              "</style>\n",
              "<table border=\"1\" class=\"dataframe\">\n",
              "  <thead>\n",
              "    <tr style=\"text-align: right;\">\n",
              "      <th></th>\n",
              "      <th>count</th>\n",
              "    </tr>\n",
              "    <tr>\n",
              "      <th>isbn</th>\n",
              "      <th></th>\n",
              "    </tr>\n",
              "  </thead>\n",
              "  <tbody>\n",
              "    <tr>\n",
              "      <th>002542730X</th>\n",
              "      <td>80</td>\n",
              "    </tr>\n",
              "    <tr>\n",
              "      <th>0060008032</th>\n",
              "      <td>49</td>\n",
              "    </tr>\n",
              "    <tr>\n",
              "      <th>0060096195</th>\n",
              "      <td>45</td>\n",
              "    </tr>\n",
              "    <tr>\n",
              "      <th>006016848X</th>\n",
              "      <td>54</td>\n",
              "    </tr>\n",
              "    <tr>\n",
              "      <th>0060173289</th>\n",
              "      <td>31</td>\n",
              "    </tr>\n",
              "  </tbody>\n",
              "</table>\n",
              "</div>\n",
              "      <button class=\"colab-df-convert\" onclick=\"convertToInteractive('df-85de8f73-52ef-4f7c-b867-233ea4312a7b')\"\n",
              "              title=\"Convert this dataframe to an interactive table.\"\n",
              "              style=\"display:none;\">\n",
              "        \n",
              "  <svg xmlns=\"http://www.w3.org/2000/svg\" height=\"24px\"viewBox=\"0 0 24 24\"\n",
              "       width=\"24px\">\n",
              "    <path d=\"M0 0h24v24H0V0z\" fill=\"none\"/>\n",
              "    <path d=\"M18.56 5.44l.94 2.06.94-2.06 2.06-.94-2.06-.94-.94-2.06-.94 2.06-2.06.94zm-11 1L8.5 8.5l.94-2.06 2.06-.94-2.06-.94L8.5 2.5l-.94 2.06-2.06.94zm10 10l.94 2.06.94-2.06 2.06-.94-2.06-.94-.94-2.06-.94 2.06-2.06.94z\"/><path d=\"M17.41 7.96l-1.37-1.37c-.4-.4-.92-.59-1.43-.59-.52 0-1.04.2-1.43.59L10.3 9.45l-7.72 7.72c-.78.78-.78 2.05 0 2.83L4 21.41c.39.39.9.59 1.41.59.51 0 1.02-.2 1.41-.59l7.78-7.78 2.81-2.81c.8-.78.8-2.07 0-2.86zM5.41 20L4 18.59l7.72-7.72 1.47 1.35L5.41 20z\"/>\n",
              "  </svg>\n",
              "      </button>\n",
              "      \n",
              "  <style>\n",
              "    .colab-df-container {\n",
              "      display:flex;\n",
              "      flex-wrap:wrap;\n",
              "      gap: 12px;\n",
              "    }\n",
              "\n",
              "    .colab-df-convert {\n",
              "      background-color: #E8F0FE;\n",
              "      border: none;\n",
              "      border-radius: 50%;\n",
              "      cursor: pointer;\n",
              "      display: none;\n",
              "      fill: #1967D2;\n",
              "      height: 32px;\n",
              "      padding: 0 0 0 0;\n",
              "      width: 32px;\n",
              "    }\n",
              "\n",
              "    .colab-df-convert:hover {\n",
              "      background-color: #E2EBFA;\n",
              "      box-shadow: 0px 1px 2px rgba(60, 64, 67, 0.3), 0px 1px 3px 1px rgba(60, 64, 67, 0.15);\n",
              "      fill: #174EA6;\n",
              "    }\n",
              "\n",
              "    [theme=dark] .colab-df-convert {\n",
              "      background-color: #3B4455;\n",
              "      fill: #D2E3FC;\n",
              "    }\n",
              "\n",
              "    [theme=dark] .colab-df-convert:hover {\n",
              "      background-color: #434B5C;\n",
              "      box-shadow: 0px 1px 3px 1px rgba(0, 0, 0, 0.15);\n",
              "      filter: drop-shadow(0px 1px 2px rgba(0, 0, 0, 0.3));\n",
              "      fill: #FFFFFF;\n",
              "    }\n",
              "  </style>\n",
              "\n",
              "      <script>\n",
              "        const buttonEl =\n",
              "          document.querySelector('#df-85de8f73-52ef-4f7c-b867-233ea4312a7b button.colab-df-convert');\n",
              "        buttonEl.style.display =\n",
              "          google.colab.kernel.accessAllowed ? 'block' : 'none';\n",
              "\n",
              "        async function convertToInteractive(key) {\n",
              "          const element = document.querySelector('#df-85de8f73-52ef-4f7c-b867-233ea4312a7b');\n",
              "          const dataTable =\n",
              "            await google.colab.kernel.invokeFunction('convertToInteractive',\n",
              "                                                     [key], {});\n",
              "          if (!dataTable) return;\n",
              "\n",
              "          const docLinkHtml = 'Like what you see? Visit the ' +\n",
              "            '<a target=\"_blank\" href=https://colab.research.google.com/notebooks/data_table.ipynb>data table notebook</a>'\n",
              "            + ' to learn more about interactive tables.';\n",
              "          element.innerHTML = '';\n",
              "          dataTable['output_type'] = 'display_data';\n",
              "          await google.colab.output.renderOutput(dataTable, element);\n",
              "          const docLink = document.createElement('div');\n",
              "          docLink.innerHTML = docLinkHtml;\n",
              "          element.appendChild(docLink);\n",
              "        }\n",
              "      </script>\n",
              "    </div>\n",
              "  </div>\n",
              "  "
            ],
            "text/plain": [
              "            count\n",
              "isbn             \n",
              "002542730X     80\n",
              "0060008032     49\n",
              "0060096195     45\n",
              "006016848X     54\n",
              "0060173289     31"
            ]
          },
          "execution_count": 93,
          "metadata": {},
          "output_type": "execute_result"
        }
      ],
      "source": [
        "# number of ratings each book received\n",
        "book_count = pd.DataFrame(df_ratings_clean.groupby('isbn').size(), columns=['count'])\n",
        "book_count.head(5)"
      ]
    },
    {
      "cell_type": "markdown",
      "metadata": {
        "id": "PcVHN5FZ2ujc"
      },
      "source": [
        "#### About K-NN"
      ]
    },
    {
      "cell_type": "code",
      "execution_count": 73,
      "metadata": {
        "id": "_iXqK05B3S-C"
      },
      "outputs": [],
      "source": [
        "# Now we can discuss how we are pivoting into K-Nearest Neighbors(K-NN). \n",
        "#Why do you ask we did an array? \n",
        "# - For our book recommended we needed our data to be in an 'm x n' array. \n",
        "# - Our 'm' represents the number of books and 'n' represents our number of \n",
        "#users.\n",
        "# - We had to reshape our DataFrame by pivot which allows setting \n",
        "#the book as rows and format our users as columns.\n",
        "# - Since our rating distribution is 0-10 we will be calculating the \n",
        "#distances between our vectors. By doing this will need to perform linear \n",
        "#algebra.\n",
        "\n",
        "# We will be using cosine similarity for our nearest neighbor search. \n",
        "#When a KNN helps us under the hood, it is relying on us to set up our \n",
        "#pivot and features to help predict books by calculating our distances \n",
        "#between similar user book recommendations, reason why dataset is sparse."
      ]
    },
    {
      "cell_type": "markdown",
      "metadata": {
        "id": "T2bR7BjKHlgT"
      },
      "source": [
        "#### Implementation"
      ]
    },
    {
      "cell_type": "code",
      "execution_count": null,
      "metadata": {
        "id": "ywU7SW7cKHbT"
      },
      "outputs": [],
      "source": [
        "# 5. After importing and cleaning the data, use NearestNeighbors from sklearn.neighbors \n",
        "#to develop a model that shows books that are similar to a given book. The Nearest \n",
        "#Neighbors algorithm measures the distance to determine the “closeness” of instances."
      ]
    },
    {
      "cell_type": "code",
      "execution_count": 94,
      "metadata": {
        "id": "NM30F06OJutN"
      },
      "outputs": [],
      "source": [
        "# Get Book data\n",
        "#features.columns # USER\n",
        "#features.index # ISBN\n",
        "#features.values # RATING\n",
        "\n",
        "# EXAMPLE:\n",
        "#features[COLUMN][INDEX] = VALUE\n",
        "#features[USER][ISBN] = RATING\n",
        "#features[254]['0142001740'] # = 9.0\n",
        "\n",
        "isbns = pd.Series(features.index)\n",
        "values = isbns.map(get_book_values)\n",
        "values.name = 'values'\n",
        "#titles = \n",
        "#authors = \n",
        "\n",
        "# Get Features\n",
        "#indptr = matrix_book_features.indptr # INDPTR\n",
        "#indices = matrix_book_features.indices # INDICES\n",
        "#data = matrix_book_features.data # DATA"
      ]
    },
    {
      "cell_type": "code",
      "execution_count": 95,
      "metadata": {
        "colab": {
          "base_uri": "https://localhost:8080/"
        },
        "id": "2KDSbQVh68HD",
        "outputId": "3cbdf726-c3c8-4ff4-c839-0b6f7fc45cb0"
      },
      "outputs": [
        {
          "data": {
            "text/plain": [
              "NearestNeighbors(algorithm='brute', metric='cosine', n_jobs=-1)"
            ]
          },
          "execution_count": 95,
          "metadata": {},
          "output_type": "execute_result"
        }
      ],
      "source": [
        "# Now that we have our sparse matrix complete and our DataFrame transformed, \n",
        "#we are ready to predict books.\n",
        "# We will now need to implement our KNN model.\n",
        "\n",
        "# Set K value\n",
        "K = 5\n",
        "\n",
        "# Create the NearestNeighbors model\n",
        "knn = NearestNeighbors(\n",
        "    metric='cosine', # 'cosine', ‘cityblock’, ‘euclidean’, ‘l1’, ‘l2’, ‘manhattan’\n",
        "    algorithm='brute', # 'brute', 'kd_tree', 'ball_tree' or 'auto'\n",
        "    n_neighbors=K,\n",
        "    n_jobs=-1) # The number of parallel jobs to run for neighbors search. -1 means using all processors\n",
        "\n",
        "#Note: fitting on sparse input will override the setting of this \n",
        "#parameter (algorithm), using brute force.\n",
        "\n",
        "# Fit the model to the data\n",
        "knn.fit(matrix_book_features)\n",
        "\n",
        "knn\n",
        "#sklearn.metrics.pairwise.cosine_distances"
      ]
    },
    {
      "cell_type": "markdown",
      "metadata": {
        "id": "VDUwi-N_bLB6"
      },
      "source": [
        "## 6. Create A Function Named ```get_recommends```"
      ]
    },
    {
      "cell_type": "code",
      "execution_count": 85,
      "metadata": {
        "id": "f5ZUd-L1SQz7"
      },
      "outputs": [],
      "source": [
        "# 6. Create a function named get_recommends that takes a book title (from the dataset) \n",
        "#as an argument and returns a list of 5 similar books with their distances from the \n",
        "#book argument.\n",
        "\n",
        "# Notice that the data returned from get_recommends() is a list. The first element in the\n",
        "# list is the book title passed into the function. The second element in the list is a list \n",
        "#of five more lists. Each of the five lists contains a recommended book and the distance from \n",
        "#the recommended book to the book passed into the function.\n",
        "\n",
        "# This code:\n",
        "# get_recommends(\"The Queen of the Damned (Vampire Chronicles (Paperback))\")\n",
        "\n",
        "# should return:\n",
        "#[\n",
        "#  'The Queen of the Damned (Vampire Chronicles (Paperback))',\n",
        "#  [\n",
        "#    ['Catch 22', 0.793983519077301], \n",
        "#    ['The Witching Hour (Lives of the Mayfair Witches)', 0.7448656558990479], \n",
        "#    ['Interview with the Vampire', 0.7345068454742432],\n",
        "#    ['The Tale of the Body Thief (Vampire Chronicles (Paperback))', 0.5376338362693787],\n",
        "#    ['The Vampire Lestat (Vampire Chronicles, Book II)', 0.5178412199020386]\n",
        "#  ]\n",
        "#]\n",
        "\n",
        "# function to return recommended books - this will be tested\n",
        "#def get_recommends(book = \"\"):\n",
        "#\n",
        "#  recommended_books=''\n",
        "#  return recommended_books"
      ]
    },
    {
      "cell_type": "code",
      "execution_count": 122,
      "metadata": {
        "colab": {
          "base_uri": "https://localhost:8080/"
        },
        "id": "Ziu2FcQAKy4m",
        "outputId": "62f50761-f0e1-4d7f-8066-537bee572f3b"
      },
      "outputs": [
        {
          "data": {
            "text/plain": [
              "['The Queen of the Damned (Vampire Chronicles (Paperback))',\n",
              " [['Catch 22', 0.793983519077301],\n",
              "  ['The Witching Hour (Lives of the Mayfair Witches)', 0.7448656558990479],\n",
              "  ['Interview with the Vampire', 0.7345068454742432],\n",
              "  ['The Tale of the Body Thief (Vampire Chronicles (Paperback))',\n",
              "   0.5376338362693787],\n",
              "  ['The Vampire Lestat (Vampire Chronicles, Book II)', 0.5178412199020386]]]"
            ]
          },
          "execution_count": 122,
          "metadata": {},
          "output_type": "execute_result"
        }
      ],
      "source": [
        "def get_recommends(book = ''):\n",
        "  # Choose a book to get recommendations for\n",
        "  title = book[:]\n",
        "  book_isbn = get_isbn_by_book_title(title, df_clean)\n",
        "  book_index = np.where( features.index.to_numpy() == book_isbn )[0][0]\n",
        "  book_title = values[book_index][1]\n",
        "  book_author = values[book_index][2]\n",
        "  #values[book_index]\n",
        "  \n",
        "  X = matrix_book_features[book_index]\n",
        "  #X.indptr # array([0, 9], dtype=int32)\n",
        "  #X.indices # array([ 25, 398, 408, 511, 636, 805, 851, 854, 876], dtype=int32)\n",
        "  #X.data # array([8., 8., 7., 8., 7., 7., 6., 8., 8.], dtype=float32)\n",
        "\n",
        "  # Get the distances and indices of the K nearest neighbors\n",
        "  distances, indices = knn.kneighbors(X=X, n_neighbors=K+1, return_distance=True)\n",
        "  #distances.tolist() = [[5.960464477539063e-08, 0.5178412199020386, 0.5376338362693787, 0.7345068454742432, 0.7448656558990479, 0.793983519077301]]\n",
        "  #indices = array([[136, 126, 152, 127, 151, 641]])\n",
        "\n",
        "  # construct array of recommended books\n",
        "  recommended_books = list()\n",
        "  recommended_books.append(book_title)\n",
        "  recommended_books.append([])\n",
        "  for i in range( len(distances.tolist()[0]) ):\n",
        "    rec_distance = distances.tolist()[0][i]\n",
        "    rec_index = indices.flat[i]\n",
        "    #rec_isbn = values[rec_index][0]\n",
        "    rec_title = values[rec_index][1]\n",
        "    #rec_author = values[rec_index][2]\n",
        "    #recommended_books[1].append( [ rec_isbn, rec_title, rec_author, rec_distance ] )\n",
        "    recommended_books[1].append( [ rec_title, rec_distance ] )\n",
        "\n",
        "  # sort by recommended distance (descending)\n",
        "  recommended_books[1].sort(reverse=True, key=lambda x: x[1])\n",
        "\n",
        "  # pop (remove) first recommended book (the queried book itself)\n",
        "  recommended_books[1].pop()\n",
        "\n",
        "  return recommended_books\n",
        "\n",
        "get_recommends('The Queen of the Damned (Vampire Chronicles (Paperback))')"
      ]
    },
    {
      "cell_type": "code",
      "execution_count": null,
      "metadata": {
        "colab": {
          "base_uri": "https://localhost:8080/"
        },
        "id": "v8qLrY7cIeMM",
        "outputId": "c06795fc-2da8-4461-8278-fca40f94f465"
      },
      "outputs": [
        {
          "name": "stdout",
          "output_type": "stream",
          "text": [
            "Top 5 Recommendations for book 'The Beach House' by James Patterson (ISBN: 0316969680):\n",
            "[ISBN,\tTITLE,\tAUTHOR,\tDISTANCE]\n",
            "- [0743206045, 'Daddy's Little Girl', 'Mary Higgins Clark', 0.7535590529441833]\n",
            "- [1551668998, 'Beach House', 'Mary Alice Monroe', 0.798296332359314]\n",
            "- [0399150897, 'Blow Fly: A Scarpetta Novel', 'Patricia Cornwell', 0.819351851940155]\n",
            "- [0399149155, 'Q Is for Quarry', 'Sue Grafton', 0.8250288367271423]\n",
            "- [0399149325, 'Portrait of a Killer: Jack the Ripper -- Case Closed', 'Patricia Cornwell', 0.8434885740280151]\n",
            "\n",
            "Complete Query:\n",
            "[ISBN,\tTITLE,\tAUTHOR,\tDISTANCE]\n",
            "[0316969680, 'The Beach House', 'James Patterson', 5.960464477539063e-08]\n",
            "[0743206045, 'Daddy's Little Girl', 'Mary Higgins Clark', 0.7535590529441833]\n",
            "[1551668998, 'Beach House', 'Mary Alice Monroe', 0.798296332359314]\n",
            "[0399150897, 'Blow Fly: A Scarpetta Novel', 'Patricia Cornwell', 0.819351851940155]\n",
            "[0399149155, 'Q Is for Quarry', 'Sue Grafton', 0.8250288367271423]\n",
            "[0399149325, 'Portrait of a Killer: Jack the Ripper -- Case Closed', 'Patricia Cornwell', 0.8434885740280151]\n"
          ]
        }
      ],
      "source": [
        "# Print top recommendations\n",
        "book_index = 124\n",
        "book_isbn = values[book_index][0]\n",
        "book_title = values[book_index][1]\n",
        "book_author = values[book_index][2]\n",
        "X = matrix_book_features[book_index]\n",
        "distances, indices = knn.kneighbors(X=X, n_neighbors=K+1, return_distance=True)\n",
        "recommended_isbns = []\n",
        "query = \"\"\n",
        "print(\"Top {K} Recommendations for book '{book}' by {author} (ISBN: {isbn}):\".format(K=K, book=book_title, author=book_author, isbn=book_isbn))\n",
        "print(\"[ISBN,\\tTITLE,\\tAUTHOR,\\tDISTANCE]\")\n",
        "for i in range( len(distances.flat) ):\n",
        "  rec_distance = distances.flat[i]\n",
        "  rec_index = indices.flat[i]\n",
        "  rec_isbn = values[rec_index][0]\n",
        "  rec_title = values[rec_index][1]\n",
        "  rec_author = values[rec_index][2]\n",
        "\n",
        "  book_already_recommended = rec_isbn in recommended_isbns\n",
        "  same_book_as_queried = book_title == rec_title\n",
        "  if not book_already_recommended and not same_book_as_queried:\n",
        "    recommended_isbns.append(rec_isbn)\n",
        "    print( \"- [{isbn}, '{title}', '{author}', {distance}]\".format(isbn=rec_isbn, title=rec_title, author=rec_author, distance=rec_distance) )\n",
        "  \n",
        "  if query:\n",
        "    query += '\\n'\n",
        "  query += \"[{isbn}, '{title}', '{author}', {distance}]\".format(isbn=rec_isbn, title=rec_title, author=rec_author, distance=rec_distance)\n",
        "\n",
        "print(\"\\nComplete Query:\")\n",
        "print(\"[ISBN,\\tTITLE,\\tAUTHOR,\\tDISTANCE]\")\n",
        "print(query)"
      ]
    },
    {
      "cell_type": "code",
      "execution_count": 86,
      "metadata": {
        "id": "Nn2Vfin0GNsE"
      },
      "outputs": [],
      "source": [
        "# ... INSERT YOUR CODE ABOVE ..."
      ]
    },
    {
      "cell_type": "markdown",
      "metadata": {
        "id": "lTGnemEIbWqa"
      },
      "source": [
        "## 7. Test Your Code"
      ]
    },
    {
      "cell_type": "code",
      "execution_count": 123,
      "metadata": {
        "colab": {
          "base_uri": "https://localhost:8080/"
        },
        "id": "jd2SLCh8oxMh",
        "outputId": "7557e616-3d9d-4d80-d80b-effd1066fd84"
      },
      "outputs": [
        {
          "name": "stdout",
          "output_type": "stream",
          "text": [
            "[\"Where the Heart Is (Oprah's Book Club (Paperback))\", [[\"I'll Be Seeing You\", 0.8016210794448853], ['The Weight of Water', 0.7708583474159241], ['The Surgeon', 0.7699410915374756], ['I Know This Much Is True', 0.7677075266838074], ['The Lovely Bones: A Novel', 0.7234864234924316]]]\n",
            "You passed the challenge! 🎉🎉🎉🎉🎉\n"
          ]
        }
      ],
      "source": [
        "# 7. test your code\n",
        "\n",
        "books = get_recommends(\"Where the Heart Is (Oprah's Book Club (Paperback))\")\n",
        "print(books)\n",
        "\n",
        "def test_book_recommendation():\n",
        "  test_pass = True\n",
        "  recommends = get_recommends(\"Where the Heart Is (Oprah's Book Club (Paperback))\")\n",
        "  if recommends[0] != \"Where the Heart Is (Oprah's Book Club (Paperback))\":\n",
        "    test_pass = False\n",
        "  recommended_books = [\"I'll Be Seeing You\", 'The Weight of Water', 'The Surgeon', 'I Know This Much Is True']\n",
        "  recommended_books_dist = [0.8, 0.77, 0.77, 0.77]\n",
        "  for i in range(2): \n",
        "    if recommends[1][i][0] not in recommended_books:\n",
        "      test_pass = False\n",
        "    if abs(recommends[1][i][1] - recommended_books_dist[i]) >= 0.05:\n",
        "      test_pass = False\n",
        "  if test_pass:\n",
        "    print(\"You passed the challenge! 🎉🎉🎉🎉🎉\")\n",
        "  else:\n",
        "    print(\"You haven't passed yet. Keep trying!\")\n",
        "\n",
        "test_book_recommendation()"
      ]
    }
  ],
  "metadata": {
    "colab": {
      "collapsed_sections": [
        "5dh4CUz5fmEL",
        "9-wb-eyBbsmi",
        "86tZaEQtauxp",
        "aKVeU6CyaqZa",
        "YcgJydzIfimB",
        "sE02le3aflWB",
        "xyqEVC8waQ96",
        "yOcnaSCLfWCx",
        "GBdGRu2ffa6J",
        "AGoyMxjR2O5O",
        "P4nPsMtf0b61",
        "VK7IDm0Y2et7",
        "kcqFWX8n-aem",
        "ApClbsk5-hp2",
        "Hx3hjI7VvH-a",
        "2bBhz9GzvUZB",
        "tJw4RuEN2eKb",
        "T2bR7BjKHlgT"
      ],
      "provenance": [],
      "toc_visible": true
    },
    "kernelspec": {
      "display_name": "Python 3",
      "language": "python",
      "name": "python3"
    },
    "language_info": {
      "codemirror_mode": {
        "name": "ipython",
        "version": 3
      },
      "file_extension": ".py",
      "mimetype": "text/x-python",
      "name": "python",
      "nbconvert_exporter": "python",
      "pygments_lexer": "ipython3",
      "version": "3.6.5"
    }
  },
  "nbformat": 4,
  "nbformat_minor": 0
}
